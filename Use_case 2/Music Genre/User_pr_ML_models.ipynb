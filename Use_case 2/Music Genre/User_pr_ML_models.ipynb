{
 "cells": [
  {
   "cell_type": "code",
   "execution_count": 1,
   "metadata": {},
   "outputs": [],
   "source": [
    "import librosa\n",
    "import pandas as pd\n",
    "import numpy as np\n",
    "import matplotlib.pyplot as plt\n",
    "%matplotlib inline\n",
    "import os\n",
    "import pathlib\n",
    "import csv\n",
    "from sklearn.model_selection import train_test_split\n",
    "from sklearn.preprocessing import LabelEncoder, StandardScaler\n",
    "import warnings\n",
    "warnings.filterwarnings('ignore')"
   ]
  },
  {
   "cell_type": "code",
   "execution_count": 2,
   "metadata": {},
   "outputs": [],
   "source": [
    "def Prediction(songname,model):\n",
    "    y,sr = librosa.load(songname, mono=True, duration=30)\n",
    "    rmse = librosa.feature.rms(y=y)[0]\n",
    "    chroma_stft = librosa.feature.chroma_stft(y=y, sr=sr)\n",
    "    spec_cent = librosa.feature.spectral_centroid(y=y, sr=sr)\n",
    "    spec_bw = librosa.feature.spectral_bandwidth(y=y, sr=sr)\n",
    "    rolloff = librosa.feature.spectral_rolloff(y=y, sr=sr)\n",
    "    zcr = librosa.feature.zero_crossing_rate(y)\n",
    "    mfcc = librosa.feature.mfcc(y=y, sr=sr)\n",
    "    to_append = [np.mean(chroma_stft),np.mean(rmse),np.mean(spec_cent),np.mean(spec_bw),np.mean(rolloff),np.mean(zcr)]    \n",
    "    for e in mfcc:\n",
    "          to_append.append(np.mean(e))\n",
    "  \n",
    "    data = pd.DataFrame([to_append])\n",
    "    data.astype('float64')\n",
    "    #Encoding the Labels\n",
    "    #genre_list = data.iloc[:, -1]\n",
    "    #encoder = LabelEncoder()\n",
    "    #y = encoder.fit_transform(genre_list)\n",
    "    #Scaling the Feature columns\n",
    "    scaler = StandardScaler()\n",
    "    X = scaler.fit_transform(np.array(data, dtype = float))\n",
    "    #load and create model\n",
    "    from sklearn.externals import joblib\n",
    "    model_load = joblib.load(model)\n",
    "\n",
    "    pred=model_load.predict(X)\n",
    "    #argmax() method \n",
    "    pred = [np.argmax(line) for line in pred]\n",
    "    dic ={0:'blues', 1:'classical', 2:'country', 3:'disco', 4:'hiphop', 5:'jazz',\n",
    "       6:'metal', 7:'pop', 8:'reggae', 9:'rock'}\n",
    "    pred = [dic.get(n, n) for n in pred]\n",
    "    \n",
    "    return pred"
   ]
  },
  {
   "cell_type": "code",
   "execution_count": null,
   "metadata": {},
   "outputs": [],
   "source": []
  },
  {
   "cell_type": "code",
   "execution_count": null,
   "metadata": {},
   "outputs": [],
   "source": []
  },
  {
   "cell_type": "code",
   "execution_count": null,
   "metadata": {},
   "outputs": [],
   "source": []
  },
  {
   "cell_type": "code",
   "execution_count": null,
   "metadata": {},
   "outputs": [],
   "source": []
  }
 ],
 "metadata": {
  "kernelspec": {
   "display_name": "Python 3",
   "language": "python",
   "name": "python3"
  },
  "language_info": {
   "codemirror_mode": {
    "name": "ipython",
    "version": 3
   },
   "file_extension": ".py",
   "mimetype": "text/x-python",
   "name": "python",
   "nbconvert_exporter": "python",
   "pygments_lexer": "ipython3",
   "version": "3.7.3"
  }
 },
 "nbformat": 4,
 "nbformat_minor": 2
}
