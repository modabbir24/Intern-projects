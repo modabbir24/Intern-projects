{
  "nbformat": 4,
  "nbformat_minor": 0,
  "metadata": {
    "colab": {
      "name": "Genre Classifier_ANN.ipynb",
      "provenance": []
    },
    "kernelspec": {
      "name": "python3",
      "display_name": "Python 3"
    }
  },
  "cells": [
    {
      "cell_type": "code",
      "metadata": {
        "id": "sjzff-tCq_h9",
        "colab_type": "code",
        "colab": {}
      },
      "source": [
        "import pandas as pd\n",
        "import numpy as np"
      ],
      "execution_count": null,
      "outputs": []
    },
    {
      "cell_type": "code",
      "metadata": {
        "id": "UurhTOwlsOU3",
        "colab_type": "code",
        "colab": {}
      },
      "source": [
        "import shutil\n",
        "shutil.unpack_archive(\"./drive/My Drive/genres.tar.gz\", \"./drive/My Drive\")"
      ],
      "execution_count": null,
      "outputs": []
    },
    {
      "cell_type": "code",
      "metadata": {
        "id": "NPAhxGHvsqzF",
        "colab_type": "code",
        "colab": {
          "base_uri": "https://localhost:8080/",
          "height": 33
        },
        "outputId": "e8292871-dcd0-4cb9-8156-ff3a4025fa3c"
      },
      "source": [
        "import librosa\n",
        "import pandas as pd\n",
        "import numpy as np\n",
        "import matplotlib.pyplot as plt\n",
        "%matplotlib inline\n",
        "import os\n",
        "from PIL import Image\n",
        "import pathlib\n",
        "import csv\n",
        "from sklearn.model_selection import train_test_split\n",
        "from sklearn.preprocessing import LabelEncoder, StandardScaler\n",
        "import keras\n",
        "from keras import layers\n",
        "from keras import layers\n",
        "import keras\n",
        "from keras.models import Sequential\n",
        "import warnings\n",
        "warnings.filterwarnings('ignore')"
      ],
      "execution_count": null,
      "outputs": [
        {
          "output_type": "stream",
          "text": [
            "Using TensorFlow backend.\n"
          ],
          "name": "stderr"
        }
      ]
    },
    {
      "cell_type": "markdown",
      "metadata": {
        "id": "LBy2UDWBk3VK",
        "colab_type": "text"
      },
      "source": [
        "Now convert the audio data files into PNG format images or basically extracting the Spectrogram for every Audio."
      ]
    },
    {
      "cell_type": "code",
      "metadata": {
        "id": "KQnXS2K8kvsz",
        "colab_type": "code",
        "colab": {
          "base_uri": "https://localhost:8080/",
          "height": 33
        },
        "outputId": "19bbb327-7e50-4a60-932a-7f581f948b6d"
      },
      "source": [
        "cmap = plt.get_cmap('inferno')\n",
        "plt.figure(figsize=(8,8))\n",
        "genres = 'blues classical country disco hiphop jazz metal pop reggae rock'.split()\n",
        "for g in genres:\n",
        "    pathlib.Path(f'img_data/{g}').mkdir(parents=True, exist_ok=True)\n",
        "    for filename in os.listdir(f'./drive/My Drive/genres/{g}'):\n",
        "        songname = f'./drive/My Drive/genres/{g}/{filename}'\n",
        "        y, sr = librosa.load(songname, mono=True, duration=5)\n",
        "        plt.specgram(y, NFFT=2048, Fs=2, Fc=0, noverlap=128, cmap=cmap, sides='default', mode='default', scale='dB');\n",
        "        plt.axis('off');\n",
        "        plt.savefig(f'img_data/{g}/{filename[:-3].replace(\".\", \"\")}.png')\n",
        "        plt.clf()"
      ],
      "execution_count": null,
      "outputs": [
        {
          "output_type": "display_data",
          "data": {
            "text/plain": [
              "<Figure size 576x576 with 0 Axes>"
            ]
          },
          "metadata": {
            "tags": []
          }
        }
      ]
    },
    {
      "cell_type": "markdown",
      "metadata": {
        "id": "J2Og9_vblkHw",
        "colab_type": "text"
      },
      "source": [
        "Creating a header for our CSV file."
      ]
    },
    {
      "cell_type": "code",
      "metadata": {
        "id": "JF0qu9wfk8Wl",
        "colab_type": "code",
        "colab": {}
      },
      "source": [
        "header = 'filename chroma_stft rmse spectral_centroid spectral_bandwidth rolloff zero_crossing_rate'\n",
        "for i in range(1, 21):\n",
        "    header += f' mfcc{i}'\n",
        "header += ' label'\n",
        "header = header.split()"
      ],
      "execution_count": null,
      "outputs": []
    },
    {
      "cell_type": "markdown",
      "metadata": {
        "id": "AWjo2GQ7l8gX",
        "colab_type": "text"
      },
      "source": [
        "We will extract Mel-frequency cepstral coefficients (MFCC), Spectral Centroid, Zero Crossing Rate, Chroma Frequencies, and Spectral Roll-off."
      ]
    },
    {
      "cell_type": "code",
      "metadata": {
        "id": "Gmi3ZPSVl3jc",
        "colab_type": "code",
        "colab": {}
      },
      "source": [
        "file = open('dataset.csv', 'w', newline='')\n",
        "with file:\n",
        "    writer = csv.writer(file)\n",
        "    writer.writerow(header)\n",
        "genres = 'blues classical country disco hiphop jazz metal pop reggae rock'.split()\n",
        "for g in genres:\n",
        "    for filename in os.listdir(f'./drive/My Drive/genres/{g}'):\n",
        "        songname = f'./drive/My Drive/genres/{g}/{filename}'\n",
        "        y, sr = librosa.load(songname, mono=True, duration=30)\n",
        "        rmse = librosa.feature.rmse(y=y)\n",
        "        chroma_stft = librosa.feature.chroma_stft(y=y, sr=sr)\n",
        "        spec_cent = librosa.feature.spectral_centroid(y=y, sr=sr)\n",
        "        spec_bw = librosa.feature.spectral_bandwidth(y=y, sr=sr)\n",
        "        rolloff = librosa.feature.spectral_rolloff(y=y, sr=sr)\n",
        "        zcr = librosa.feature.zero_crossing_rate(y)\n",
        "        mfcc = librosa.feature.mfcc(y=y, sr=sr)\n",
        "        to_append = f'{filename} {np.mean(chroma_stft)} {np.mean(rmse)} {np.mean(spec_cent)} {np.mean(spec_bw)} {np.mean(rolloff)} {np.mean(zcr)}'    \n",
        "        for e in mfcc:\n",
        "            to_append += f' {np.mean(e)}'\n",
        "        to_append += f' {g}'\n",
        "        file = open('dataset.csv', 'a', newline='')\n",
        "        with file:\n",
        "            writer = csv.writer(file)\n",
        "            writer.writerow(to_append.split())"
      ],
      "execution_count": null,
      "outputs": []
    },
    {
      "cell_type": "markdown",
      "metadata": {
        "id": "fI90VfCdmITy",
        "colab_type": "text"
      },
      "source": [
        "loading CSV data, label encoding, feature scaling and data split into training and test set."
      ]
    },
    {
      "cell_type": "code",
      "metadata": {
        "id": "qmuvI4mhl3lD",
        "colab_type": "code",
        "colab": {}
      },
      "source": [
        "data = pd.read_csv('dataset.csv')\n",
        "data.head()\n",
        "# Dropping unneccesary columns\n",
        "data = data.drop(['filename'],axis=1)\n",
        "#Encoding the Labels\n",
        "genre_list = data.iloc[:, -1]\n",
        "encoder = LabelEncoder()\n",
        "y = encoder.fit_transform(genre_list)\n",
        "#Scaling the Feature columns\n",
        "scaler = StandardScaler()\n",
        "X = scaler.fit_transform(np.array(data.iloc[:, :-1], dtype = float))\n",
        "#Dividing data into training and Testing set\n",
        "X_train, X_test, y_train, y_test = train_test_split(X, y, test_size=0.2)"
      ],
      "execution_count": null,
      "outputs": []
    },
    {
      "cell_type": "markdown",
      "metadata": {
        "id": "wvG-NIUNmOQC",
        "colab_type": "text"
      },
      "source": [
        "Building an ANN model."
      ]
    },
    {
      "cell_type": "code",
      "metadata": {
        "id": "TVr1PsEKl3pP",
        "colab_type": "code",
        "colab": {
          "base_uri": "https://localhost:8080/",
          "height": 351
        },
        "outputId": "cde12766-e4a9-4239-c39e-7cbdf64048ce"
      },
      "source": [
        "model = Sequential()\n",
        "model.add(layers.Dense(1024, activation='relu', input_shape=(X_train.shape[1],)))\n",
        "#model.add(layers.Dense(1024, activation='relu'))\n",
        "model.add(layers.Dense(512, activation='relu'))\n",
        "model.add(layers.Dense(256, activation='relu'))\n",
        "model.add(layers.Dense(128, activation='relu'))\n",
        "model.add(layers.Dense(64, activation='relu'))\n",
        "model.add(layers.Dense(10, activation='softmax'))\n",
        "model.compile(optimizer='adam',\n",
        "              loss='sparse_categorical_crossentropy',\n",
        "              metrics=['accuracy'])\n",
        "model.summary()"
      ],
      "execution_count": null,
      "outputs": [
        {
          "output_type": "stream",
          "text": [
            "Model: \"sequential_22\"\n",
            "_________________________________________________________________\n",
            "Layer (type)                 Output Shape              Param #   \n",
            "=================================================================\n",
            "dense_126 (Dense)            (None, 1024)              27648     \n",
            "_________________________________________________________________\n",
            "dense_127 (Dense)            (None, 512)               524800    \n",
            "_________________________________________________________________\n",
            "dense_128 (Dense)            (None, 256)               131328    \n",
            "_________________________________________________________________\n",
            "dense_129 (Dense)            (None, 128)               32896     \n",
            "_________________________________________________________________\n",
            "dense_130 (Dense)            (None, 64)                8256      \n",
            "_________________________________________________________________\n",
            "dense_131 (Dense)            (None, 10)                650       \n",
            "=================================================================\n",
            "Total params: 725,578\n",
            "Trainable params: 725,578\n",
            "Non-trainable params: 0\n",
            "_________________________________________________________________\n"
          ],
          "name": "stdout"
        }
      ]
    },
    {
      "cell_type": "code",
      "metadata": {
        "id": "HqRJa6H5l3q-",
        "colab_type": "code",
        "colab": {
          "base_uri": "https://localhost:8080/",
          "height": 1000
        },
        "outputId": "aff959c2-7191-4152-deb6-949c2190ccf9"
      },
      "source": [
        "classifier = model.fit(X_train,\n",
        "                    y_train,\n",
        "                    epochs=100,\n",
        "                    batch_size=256)"
      ],
      "execution_count": null,
      "outputs": [
        {
          "output_type": "stream",
          "text": [
            "Epoch 1/100\n",
            "800/800 [==============================] - 0s 175us/step - loss: 7.0275e-05 - accuracy: 1.0000\n",
            "Epoch 2/100\n",
            "800/800 [==============================] - 0s 153us/step - loss: 6.9887e-05 - accuracy: 1.0000\n",
            "Epoch 3/100\n",
            "800/800 [==============================] - 0s 152us/step - loss: 6.9523e-05 - accuracy: 1.0000\n",
            "Epoch 4/100\n",
            "800/800 [==============================] - 0s 152us/step - loss: 6.9039e-05 - accuracy: 1.0000\n",
            "Epoch 5/100\n",
            "800/800 [==============================] - 0s 157us/step - loss: 6.8616e-05 - accuracy: 1.0000\n",
            "Epoch 6/100\n",
            "800/800 [==============================] - 0s 154us/step - loss: 6.8276e-05 - accuracy: 1.0000\n",
            "Epoch 7/100\n",
            "800/800 [==============================] - 0s 150us/step - loss: 6.7786e-05 - accuracy: 1.0000\n",
            "Epoch 8/100\n",
            "800/800 [==============================] - 0s 147us/step - loss: 6.7162e-05 - accuracy: 1.0000\n",
            "Epoch 9/100\n",
            "800/800 [==============================] - 0s 164us/step - loss: 6.6642e-05 - accuracy: 1.0000\n",
            "Epoch 10/100\n",
            "800/800 [==============================] - 0s 180us/step - loss: 6.6334e-05 - accuracy: 1.0000\n",
            "Epoch 11/100\n",
            "800/800 [==============================] - 0s 168us/step - loss: 6.5928e-05 - accuracy: 1.0000\n",
            "Epoch 12/100\n",
            "800/800 [==============================] - 0s 156us/step - loss: 6.5371e-05 - accuracy: 1.0000\n",
            "Epoch 13/100\n",
            "800/800 [==============================] - 0s 154us/step - loss: 6.4730e-05 - accuracy: 1.0000\n",
            "Epoch 14/100\n",
            "800/800 [==============================] - 0s 166us/step - loss: 6.4245e-05 - accuracy: 1.0000\n",
            "Epoch 15/100\n",
            "800/800 [==============================] - 0s 158us/step - loss: 6.3754e-05 - accuracy: 1.0000\n",
            "Epoch 16/100\n",
            "800/800 [==============================] - 0s 165us/step - loss: 6.3347e-05 - accuracy: 1.0000\n",
            "Epoch 17/100\n",
            "800/800 [==============================] - 0s 166us/step - loss: 6.3005e-05 - accuracy: 1.0000\n",
            "Epoch 18/100\n",
            "800/800 [==============================] - 0s 172us/step - loss: 6.2849e-05 - accuracy: 1.0000\n",
            "Epoch 19/100\n",
            "800/800 [==============================] - 0s 191us/step - loss: 6.2234e-05 - accuracy: 1.0000\n",
            "Epoch 20/100\n",
            "800/800 [==============================] - 0s 192us/step - loss: 6.1866e-05 - accuracy: 1.0000\n",
            "Epoch 21/100\n",
            "800/800 [==============================] - 0s 188us/step - loss: 6.1479e-05 - accuracy: 1.0000\n",
            "Epoch 22/100\n",
            "800/800 [==============================] - 0s 187us/step - loss: 6.1013e-05 - accuracy: 1.0000\n",
            "Epoch 23/100\n",
            "800/800 [==============================] - 0s 195us/step - loss: 6.0511e-05 - accuracy: 1.0000\n",
            "Epoch 24/100\n",
            "800/800 [==============================] - 0s 209us/step - loss: 6.0106e-05 - accuracy: 1.0000\n",
            "Epoch 25/100\n",
            "800/800 [==============================] - 0s 200us/step - loss: 5.9873e-05 - accuracy: 1.0000\n",
            "Epoch 26/100\n",
            "800/800 [==============================] - 0s 166us/step - loss: 5.9334e-05 - accuracy: 1.0000\n",
            "Epoch 27/100\n",
            "800/800 [==============================] - 0s 153us/step - loss: 5.8919e-05 - accuracy: 1.0000\n",
            "Epoch 28/100\n",
            "800/800 [==============================] - 0s 158us/step - loss: 5.8496e-05 - accuracy: 1.0000\n",
            "Epoch 29/100\n",
            "800/800 [==============================] - 0s 161us/step - loss: 5.8177e-05 - accuracy: 1.0000\n",
            "Epoch 30/100\n",
            "800/800 [==============================] - 0s 154us/step - loss: 5.7797e-05 - accuracy: 1.0000\n",
            "Epoch 31/100\n",
            "800/800 [==============================] - 0s 179us/step - loss: 5.7550e-05 - accuracy: 1.0000\n",
            "Epoch 32/100\n",
            "800/800 [==============================] - 0s 157us/step - loss: 5.7254e-05 - accuracy: 1.0000\n",
            "Epoch 33/100\n",
            "800/800 [==============================] - 0s 170us/step - loss: 5.6848e-05 - accuracy: 1.0000\n",
            "Epoch 34/100\n",
            "800/800 [==============================] - 0s 157us/step - loss: 5.6359e-05 - accuracy: 1.0000\n",
            "Epoch 35/100\n",
            "800/800 [==============================] - 0s 161us/step - loss: 5.5872e-05 - accuracy: 1.0000\n",
            "Epoch 36/100\n",
            "800/800 [==============================] - 0s 165us/step - loss: 5.5489e-05 - accuracy: 1.0000\n",
            "Epoch 37/100\n",
            "800/800 [==============================] - 0s 158us/step - loss: 5.5243e-05 - accuracy: 1.0000\n",
            "Epoch 38/100\n",
            "800/800 [==============================] - 0s 163us/step - loss: 5.4858e-05 - accuracy: 1.0000\n",
            "Epoch 39/100\n",
            "800/800 [==============================] - 0s 168us/step - loss: 5.4476e-05 - accuracy: 1.0000\n",
            "Epoch 40/100\n",
            "800/800 [==============================] - 0s 176us/step - loss: 5.4134e-05 - accuracy: 1.0000\n",
            "Epoch 41/100\n",
            "800/800 [==============================] - 0s 161us/step - loss: 5.3815e-05 - accuracy: 1.0000\n",
            "Epoch 42/100\n",
            "800/800 [==============================] - 0s 163us/step - loss: 5.3528e-05 - accuracy: 1.0000\n",
            "Epoch 43/100\n",
            "800/800 [==============================] - 0s 151us/step - loss: 5.3125e-05 - accuracy: 1.0000\n",
            "Epoch 44/100\n",
            "800/800 [==============================] - 0s 153us/step - loss: 5.2752e-05 - accuracy: 1.0000\n",
            "Epoch 45/100\n",
            "800/800 [==============================] - 0s 152us/step - loss: 5.2492e-05 - accuracy: 1.0000\n",
            "Epoch 46/100\n",
            "800/800 [==============================] - 0s 157us/step - loss: 5.2193e-05 - accuracy: 1.0000\n",
            "Epoch 47/100\n",
            "800/800 [==============================] - 0s 165us/step - loss: 5.1836e-05 - accuracy: 1.0000\n",
            "Epoch 48/100\n",
            "800/800 [==============================] - 0s 161us/step - loss: 5.1362e-05 - accuracy: 1.0000\n",
            "Epoch 49/100\n",
            "800/800 [==============================] - 0s 181us/step - loss: 5.1053e-05 - accuracy: 1.0000\n",
            "Epoch 50/100\n",
            "800/800 [==============================] - 0s 170us/step - loss: 5.0742e-05 - accuracy: 1.0000\n",
            "Epoch 51/100\n",
            "800/800 [==============================] - 0s 167us/step - loss: 5.0445e-05 - accuracy: 1.0000\n",
            "Epoch 52/100\n",
            "800/800 [==============================] - 0s 166us/step - loss: 5.0122e-05 - accuracy: 1.0000\n",
            "Epoch 53/100\n",
            "800/800 [==============================] - 0s 155us/step - loss: 4.9751e-05 - accuracy: 1.0000\n",
            "Epoch 54/100\n",
            "800/800 [==============================] - 0s 164us/step - loss: 4.9493e-05 - accuracy: 1.0000\n",
            "Epoch 55/100\n",
            "800/800 [==============================] - 0s 181us/step - loss: 4.9236e-05 - accuracy: 1.0000\n",
            "Epoch 56/100\n",
            "800/800 [==============================] - 0s 200us/step - loss: 4.9042e-05 - accuracy: 1.0000\n",
            "Epoch 57/100\n",
            "800/800 [==============================] - 0s 190us/step - loss: 4.8792e-05 - accuracy: 1.0000\n",
            "Epoch 58/100\n",
            "800/800 [==============================] - 0s 197us/step - loss: 4.8329e-05 - accuracy: 1.0000\n",
            "Epoch 59/100\n",
            "800/800 [==============================] - 0s 190us/step - loss: 4.8103e-05 - accuracy: 1.0000\n",
            "Epoch 60/100\n",
            "800/800 [==============================] - 0s 192us/step - loss: 4.7841e-05 - accuracy: 1.0000\n",
            "Epoch 61/100\n",
            "800/800 [==============================] - 0s 207us/step - loss: 4.7425e-05 - accuracy: 1.0000\n",
            "Epoch 62/100\n",
            "800/800 [==============================] - 0s 162us/step - loss: 4.7000e-05 - accuracy: 1.0000\n",
            "Epoch 63/100\n",
            "800/800 [==============================] - 0s 166us/step - loss: 4.6703e-05 - accuracy: 1.0000\n",
            "Epoch 64/100\n",
            "800/800 [==============================] - 0s 165us/step - loss: 4.6484e-05 - accuracy: 1.0000\n",
            "Epoch 65/100\n",
            "800/800 [==============================] - 0s 169us/step - loss: 4.6200e-05 - accuracy: 1.0000\n",
            "Epoch 66/100\n",
            "800/800 [==============================] - 0s 154us/step - loss: 4.5932e-05 - accuracy: 1.0000\n",
            "Epoch 67/100\n",
            "800/800 [==============================] - 0s 162us/step - loss: 4.5614e-05 - accuracy: 1.0000\n",
            "Epoch 68/100\n",
            "800/800 [==============================] - 0s 165us/step - loss: 4.5281e-05 - accuracy: 1.0000\n",
            "Epoch 69/100\n",
            "800/800 [==============================] - 0s 153us/step - loss: 4.5009e-05 - accuracy: 1.0000\n",
            "Epoch 70/100\n",
            "800/800 [==============================] - 0s 157us/step - loss: 4.4813e-05 - accuracy: 1.0000\n",
            "Epoch 71/100\n",
            "800/800 [==============================] - 0s 153us/step - loss: 4.4638e-05 - accuracy: 1.0000\n",
            "Epoch 72/100\n",
            "800/800 [==============================] - 0s 171us/step - loss: 4.4336e-05 - accuracy: 1.0000\n",
            "Epoch 73/100\n",
            "800/800 [==============================] - 0s 160us/step - loss: 4.4131e-05 - accuracy: 1.0000\n",
            "Epoch 74/100\n",
            "800/800 [==============================] - 0s 166us/step - loss: 4.3875e-05 - accuracy: 1.0000\n",
            "Epoch 75/100\n",
            "800/800 [==============================] - 0s 168us/step - loss: 4.3517e-05 - accuracy: 1.0000\n",
            "Epoch 76/100\n",
            "800/800 [==============================] - 0s 177us/step - loss: 4.3437e-05 - accuracy: 1.0000\n",
            "Epoch 77/100\n",
            "800/800 [==============================] - 0s 176us/step - loss: 4.3103e-05 - accuracy: 1.0000\n",
            "Epoch 78/100\n",
            "800/800 [==============================] - 0s 174us/step - loss: 4.2794e-05 - accuracy: 1.0000\n",
            "Epoch 79/100\n",
            "800/800 [==============================] - 0s 175us/step - loss: 4.2669e-05 - accuracy: 1.0000\n",
            "Epoch 80/100\n",
            "800/800 [==============================] - 0s 165us/step - loss: 4.2279e-05 - accuracy: 1.0000\n",
            "Epoch 81/100\n",
            "800/800 [==============================] - 0s 160us/step - loss: 4.1932e-05 - accuracy: 1.0000\n",
            "Epoch 82/100\n",
            "800/800 [==============================] - 0s 151us/step - loss: 4.1800e-05 - accuracy: 1.0000\n",
            "Epoch 83/100\n",
            "800/800 [==============================] - 0s 171us/step - loss: 4.1504e-05 - accuracy: 1.0000\n",
            "Epoch 84/100\n",
            "800/800 [==============================] - 0s 150us/step - loss: 4.1198e-05 - accuracy: 1.0000\n",
            "Epoch 85/100\n",
            "800/800 [==============================] - 0s 164us/step - loss: 4.0919e-05 - accuracy: 1.0000\n",
            "Epoch 86/100\n",
            "800/800 [==============================] - 0s 151us/step - loss: 4.0771e-05 - accuracy: 1.0000\n",
            "Epoch 87/100\n",
            "800/800 [==============================] - 0s 153us/step - loss: 4.0730e-05 - accuracy: 1.0000\n",
            "Epoch 88/100\n",
            "800/800 [==============================] - 0s 161us/step - loss: 4.0466e-05 - accuracy: 1.0000\n",
            "Epoch 89/100\n",
            "800/800 [==============================] - 0s 159us/step - loss: 4.0108e-05 - accuracy: 1.0000\n",
            "Epoch 90/100\n",
            "800/800 [==============================] - 0s 164us/step - loss: 3.9919e-05 - accuracy: 1.0000\n",
            "Epoch 91/100\n",
            "800/800 [==============================] - 0s 160us/step - loss: 3.9610e-05 - accuracy: 1.0000\n",
            "Epoch 92/100\n",
            "800/800 [==============================] - 0s 152us/step - loss: 3.9323e-05 - accuracy: 1.0000\n",
            "Epoch 93/100\n",
            "800/800 [==============================] - 0s 151us/step - loss: 3.9182e-05 - accuracy: 1.0000\n",
            "Epoch 94/100\n",
            "800/800 [==============================] - 0s 160us/step - loss: 3.8921e-05 - accuracy: 1.0000\n",
            "Epoch 95/100\n",
            "800/800 [==============================] - 0s 151us/step - loss: 3.8697e-05 - accuracy: 1.0000\n",
            "Epoch 96/100\n",
            "800/800 [==============================] - 0s 155us/step - loss: 3.8462e-05 - accuracy: 1.0000\n",
            "Epoch 97/100\n",
            "800/800 [==============================] - 0s 150us/step - loss: 3.8269e-05 - accuracy: 1.0000\n",
            "Epoch 98/100\n",
            "800/800 [==============================] - 0s 161us/step - loss: 3.8072e-05 - accuracy: 1.0000\n",
            "Epoch 99/100\n",
            "800/800 [==============================] - 0s 163us/step - loss: 3.7850e-05 - accuracy: 1.0000\n",
            "Epoch 100/100\n",
            "800/800 [==============================] - 0s 154us/step - loss: 3.7605e-05 - accuracy: 1.0000\n"
          ],
          "name": "stdout"
        }
      ]
    },
    {
      "cell_type": "code",
      "metadata": {
        "id": "yDX3kMfVl3vE",
        "colab_type": "code",
        "colab": {
          "base_uri": "https://localhost:8080/",
          "height": 67
        },
        "outputId": "e338b1a7-09bf-44e4-bc8b-86f5b6a49ebc"
      },
      "source": [
        "test_loss, test_acc = model.evaluate(X_test,y_test)\n",
        "print('test_acc: ',test_acc)\n",
        "print('test_loss: ',test_loss)"
      ],
      "execution_count": null,
      "outputs": [
        {
          "output_type": "stream",
          "text": [
            "200/200 [==============================] - 0s 294us/step\n",
            "test_acc:  0.6899999976158142\n",
            "test_loss:  2.654512175321579\n"
          ],
          "name": "stdout"
        }
      ]
    },
    {
      "cell_type": "code",
      "metadata": {
        "id": "_9-Vx3eyl3xA",
        "colab_type": "code",
        "colab": {
          "base_uri": "https://localhost:8080/",
          "height": 67
        },
        "outputId": "ec438f3c-b0da-4031-9c10-60669c9517db"
      },
      "source": [
        "!pip install h5py"
      ],
      "execution_count": null,
      "outputs": [
        {
          "output_type": "stream",
          "text": [
            "Requirement already satisfied: h5py in /usr/local/lib/python3.6/dist-packages (2.10.0)\n",
            "Requirement already satisfied: six in /usr/local/lib/python3.6/dist-packages (from h5py) (1.12.0)\n",
            "Requirement already satisfied: numpy>=1.7 in /usr/local/lib/python3.6/dist-packages (from h5py) (1.18.5)\n"
          ],
          "name": "stdout"
        }
      ]
    },
    {
      "cell_type": "code",
      "metadata": {
        "id": "tAm6abqW2jJZ",
        "colab_type": "code",
        "colab": {
          "base_uri": "https://localhost:8080/",
          "height": 33
        },
        "outputId": "d719c638-f490-47d6-d2b5-35d7443cf637"
      },
      "source": [
        "# serialize model to JSON\n",
        "model_json = model.to_json()\n",
        "with open(\"./drive/My Drive/model.json\", \"w\") as json_file:\n",
        "    json_file.write(model_json)\n",
        "# serialize weights to HDF5\n",
        "model.save_weights(\"./drive/My Drive/model.h5\")\n",
        "print(\"Saved model to disk\")\n"
      ],
      "execution_count": null,
      "outputs": [
        {
          "output_type": "stream",
          "text": [
            "Saved model to disk\n"
          ],
          "name": "stdout"
        }
      ]
    },
    {
      "cell_type": "code",
      "metadata": {
        "id": "QumA581g2jPb",
        "colab_type": "code",
        "colab": {}
      },
      "source": [
        ""
      ],
      "execution_count": null,
      "outputs": []
    },
    {
      "cell_type": "code",
      "metadata": {
        "id": "_nM30c_32jNM",
        "colab_type": "code",
        "colab": {}
      },
      "source": [
        ""
      ],
      "execution_count": null,
      "outputs": []
    },
    {
      "cell_type": "code",
      "metadata": {
        "id": "K70B0SF32jHO",
        "colab_type": "code",
        "colab": {}
      },
      "source": [
        ""
      ],
      "execution_count": null,
      "outputs": []
    },
    {
      "cell_type": "code",
      "metadata": {
        "id": "BXfNnp7Il308",
        "colab_type": "code",
        "colab": {}
      },
      "source": [
        "#Validating our approach¶\n",
        "x_val = X_train[:200]\n",
        "partial_x_train = X_train[200:]\n",
        "\n",
        "y_val = y_train[:200]\n",
        "partial_y_train = y_train[200:]"
      ],
      "execution_count": null,
      "outputs": []
    },
    {
      "cell_type": "code",
      "metadata": {
        "id": "LJXd9J-RwOFF",
        "colab_type": "code",
        "colab": {
          "base_uri": "https://localhost:8080/",
          "height": 385
        },
        "outputId": "ecb31f83-791b-4416-a496-9c485f8fce9e"
      },
      "source": [
        "model = Sequential()\n",
        "model.add(layers.Dense(2048, activation='relu', input_shape=(X_train.shape[1],)))\n",
        "model.add(layers.Dense(1024, activation='relu'))\n",
        "model.add(layers.Dense(512, activation='relu'))\n",
        "model.add(layers.Dense(256, activation='relu'))\n",
        "model.add(layers.Dense(128, activation='relu'))\n",
        "model.add(layers.Dense(64, activation='relu'))\n",
        "model.add(layers.Dense(10, activation='softmax'))\n",
        "model.summary()"
      ],
      "execution_count": null,
      "outputs": [
        {
          "output_type": "stream",
          "text": [
            "Model: \"sequential_5\"\n",
            "_________________________________________________________________\n",
            "Layer (type)                 Output Shape              Param #   \n",
            "=================================================================\n",
            "dense_23 (Dense)             (None, 2048)              55296     \n",
            "_________________________________________________________________\n",
            "dense_24 (Dense)             (None, 1024)              2098176   \n",
            "_________________________________________________________________\n",
            "dense_25 (Dense)             (None, 512)               524800    \n",
            "_________________________________________________________________\n",
            "dense_26 (Dense)             (None, 256)               131328    \n",
            "_________________________________________________________________\n",
            "dense_27 (Dense)             (None, 128)               32896     \n",
            "_________________________________________________________________\n",
            "dense_28 (Dense)             (None, 64)                8256      \n",
            "_________________________________________________________________\n",
            "dense_29 (Dense)             (None, 10)                650       \n",
            "=================================================================\n",
            "Total params: 2,851,402\n",
            "Trainable params: 2,851,402\n",
            "Non-trainable params: 0\n",
            "_________________________________________________________________\n"
          ],
          "name": "stdout"
        }
      ]
    },
    {
      "cell_type": "code",
      "metadata": {
        "id": "HMdDcq9iwOO_",
        "colab_type": "code",
        "colab": {
          "base_uri": "https://localhost:8080/",
          "height": 1000
        },
        "outputId": "99441dd9-4776-48e7-e0e5-b36819c91a15"
      },
      "source": [
        "model.compile(optimizer='adam',\n",
        "              loss='sparse_categorical_crossentropy',\n",
        "              metrics=['accuracy'])\n",
        "\n",
        "model.fit(partial_x_train,\n",
        "          partial_y_train,\n",
        "          epochs=30,\n",
        "          batch_size=512,\n",
        "          validation_data=(x_val, y_val))"
      ],
      "execution_count": null,
      "outputs": [
        {
          "output_type": "stream",
          "text": [
            "Train on 600 samples, validate on 200 samples\n",
            "Epoch 1/30\n",
            "600/600 [==============================] - 1s 855us/step - loss: 2.2941 - accuracy: 0.1250 - val_loss: 2.1525 - val_accuracy: 0.2950\n",
            "Epoch 2/30\n",
            "600/600 [==============================] - 0s 472us/step - loss: 2.0803 - accuracy: 0.3700 - val_loss: 1.9381 - val_accuracy: 0.3050\n",
            "Epoch 3/30\n",
            "600/600 [==============================] - 0s 489us/step - loss: 1.7630 - accuracy: 0.4083 - val_loss: 1.7563 - val_accuracy: 0.3550\n",
            "Epoch 4/30\n",
            "600/600 [==============================] - 0s 529us/step - loss: 1.5364 - accuracy: 0.4350 - val_loss: 1.6104 - val_accuracy: 0.4050\n",
            "Epoch 5/30\n",
            "600/600 [==============================] - 0s 481us/step - loss: 1.3574 - accuracy: 0.5050 - val_loss: 1.5763 - val_accuracy: 0.4700\n",
            "Epoch 6/30\n",
            "600/600 [==============================] - 0s 491us/step - loss: 1.3676 - accuracy: 0.5183 - val_loss: 1.6820 - val_accuracy: 0.3900\n",
            "Epoch 7/30\n",
            "600/600 [==============================] - 0s 489us/step - loss: 1.2256 - accuracy: 0.5417 - val_loss: 1.4419 - val_accuracy: 0.4550\n",
            "Epoch 8/30\n",
            "600/600 [==============================] - 0s 532us/step - loss: 1.1489 - accuracy: 0.5950 - val_loss: 1.5109 - val_accuracy: 0.4450\n",
            "Epoch 9/30\n",
            "600/600 [==============================] - 0s 481us/step - loss: 1.0981 - accuracy: 0.6200 - val_loss: 1.3684 - val_accuracy: 0.5000\n",
            "Epoch 10/30\n",
            "600/600 [==============================] - 0s 499us/step - loss: 1.0104 - accuracy: 0.6583 - val_loss: 1.3016 - val_accuracy: 0.5100\n",
            "Epoch 11/30\n",
            "600/600 [==============================] - 0s 508us/step - loss: 0.9079 - accuracy: 0.6850 - val_loss: 1.2325 - val_accuracy: 0.5700\n",
            "Epoch 12/30\n",
            "600/600 [==============================] - 0s 480us/step - loss: 0.8571 - accuracy: 0.7050 - val_loss: 1.2263 - val_accuracy: 0.5350\n",
            "Epoch 13/30\n",
            "600/600 [==============================] - 0s 487us/step - loss: 0.7739 - accuracy: 0.7483 - val_loss: 1.2659 - val_accuracy: 0.5900\n",
            "Epoch 14/30\n",
            "600/600 [==============================] - 0s 505us/step - loss: 0.7558 - accuracy: 0.7567 - val_loss: 1.2580 - val_accuracy: 0.5750\n",
            "Epoch 15/30\n",
            "600/600 [==============================] - 0s 486us/step - loss: 0.7274 - accuracy: 0.7500 - val_loss: 1.3093 - val_accuracy: 0.5250\n",
            "Epoch 16/30\n",
            "600/600 [==============================] - 0s 489us/step - loss: 0.6802 - accuracy: 0.7617 - val_loss: 1.3120 - val_accuracy: 0.5900\n",
            "Epoch 17/30\n",
            "600/600 [==============================] - 0s 481us/step - loss: 0.7302 - accuracy: 0.7467 - val_loss: 1.1905 - val_accuracy: 0.6000\n",
            "Epoch 18/30\n",
            "600/600 [==============================] - 0s 504us/step - loss: 0.5919 - accuracy: 0.8017 - val_loss: 1.2993 - val_accuracy: 0.5700\n",
            "Epoch 19/30\n",
            "600/600 [==============================] - 0s 490us/step - loss: 0.5809 - accuracy: 0.7883 - val_loss: 1.3178 - val_accuracy: 0.5500\n",
            "Epoch 20/30\n",
            "600/600 [==============================] - 0s 476us/step - loss: 0.5178 - accuracy: 0.8183 - val_loss: 1.2591 - val_accuracy: 0.5800\n",
            "Epoch 21/30\n",
            "600/600 [==============================] - 0s 496us/step - loss: 0.4980 - accuracy: 0.8400 - val_loss: 1.2597 - val_accuracy: 0.6000\n",
            "Epoch 22/30\n",
            "600/600 [==============================] - 0s 486us/step - loss: 0.4518 - accuracy: 0.8517 - val_loss: 1.3456 - val_accuracy: 0.5750\n",
            "Epoch 23/30\n",
            "600/600 [==============================] - 0s 482us/step - loss: 0.4220 - accuracy: 0.8550 - val_loss: 1.3151 - val_accuracy: 0.5800\n",
            "Epoch 24/30\n",
            "600/600 [==============================] - 0s 496us/step - loss: 0.4122 - accuracy: 0.8583 - val_loss: 1.3012 - val_accuracy: 0.6000\n",
            "Epoch 25/30\n",
            "600/600 [==============================] - 0s 506us/step - loss: 0.3459 - accuracy: 0.8933 - val_loss: 1.3823 - val_accuracy: 0.5850\n",
            "Epoch 26/30\n",
            "600/600 [==============================] - 0s 503us/step - loss: 0.3355 - accuracy: 0.9000 - val_loss: 1.3526 - val_accuracy: 0.5700\n",
            "Epoch 27/30\n",
            "600/600 [==============================] - 0s 501us/step - loss: 0.3103 - accuracy: 0.9083 - val_loss: 1.3292 - val_accuracy: 0.6150\n",
            "Epoch 28/30\n",
            "600/600 [==============================] - 0s 504us/step - loss: 0.2709 - accuracy: 0.9183 - val_loss: 1.4143 - val_accuracy: 0.6000\n",
            "Epoch 29/30\n",
            "600/600 [==============================] - 0s 491us/step - loss: 0.2470 - accuracy: 0.9383 - val_loss: 1.4930 - val_accuracy: 0.5850\n",
            "Epoch 30/30\n",
            "600/600 [==============================] - 0s 495us/step - loss: 0.2285 - accuracy: 0.9217 - val_loss: 1.4789 - val_accuracy: 0.6000\n"
          ],
          "name": "stdout"
        },
        {
          "output_type": "execute_result",
          "data": {
            "text/plain": [
              "<keras.callbacks.callbacks.History at 0x7f8c621f4da0>"
            ]
          },
          "metadata": {
            "tags": []
          },
          "execution_count": 22
        }
      ]
    },
    {
      "cell_type": "code",
      "metadata": {
        "id": "qggFfbaYwONh",
        "colab_type": "code",
        "colab": {
          "base_uri": "https://localhost:8080/",
          "height": 33
        },
        "outputId": "0aba651c-7430-4f0d-ce1b-4068afb6daf4"
      },
      "source": [
        "results = model.evaluate(X_test, y_test)\n"
      ],
      "execution_count": null,
      "outputs": [
        {
          "output_type": "stream",
          "text": [
            "200/200 [==============================] - 0s 303us/step\n"
          ],
          "name": "stdout"
        }
      ]
    },
    {
      "cell_type": "code",
      "metadata": {
        "id": "UuKSkp5twOLl",
        "colab_type": "code",
        "colab": {}
      },
      "source": [
        "#Predictions on Test Data¶\n",
        "predictions = model.predict(X_test)"
      ],
      "execution_count": null,
      "outputs": []
    },
    {
      "cell_type": "code",
      "metadata": {
        "id": "bek7RB8Gw-oI",
        "colab_type": "code",
        "colab": {}
      },
      "source": [
        ""
      ],
      "execution_count": null,
      "outputs": []
    }
  ]
}
