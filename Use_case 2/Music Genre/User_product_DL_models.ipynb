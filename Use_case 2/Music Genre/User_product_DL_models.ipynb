{
  "nbformat": 4,
  "nbformat_minor": 0,
  "metadata": {
    "colab": {
      "name": "User product.ipynb",
      "provenance": [],
      "mount_file_id": "1JRq5_xAEy2dlmuSz6dpbczg6QAGp_HsE",
      "authorship_tag": "ABX9TyNPw2HfpqitQzYEWy14bFTo",
      "include_colab_link": true
    },
    "kernelspec": {
      "name": "python3",
      "display_name": "Python 3"
    }
  },
  "cells": [
    {
      "cell_type": "markdown",
      "metadata": {
        "id": "view-in-github",
        "colab_type": "text"
      },
      "source": [
        "<a href=\"https://colab.research.google.com/github/data-stats/Modabbir-Tarique/blob/master/Use_case%202/Music%20Genre/User_product_DL_models.ipynb\" target=\"_parent\"><img src=\"https://colab.research.google.com/assets/colab-badge.svg\" alt=\"Open In Colab\"/></a>"
      ]
    },
    {
      "cell_type": "code",
      "metadata": {
        "id": "9fJJ6HMfDYvz",
        "colab_type": "code",
        "colab": {
          "base_uri": "https://localhost:8080/",
          "height": 33
        },
        "outputId": "b93edba6-8d17-41c0-d66f-3380d521baa5"
      },
      "source": [
        "import librosa\n",
        "import pandas as pd\n",
        "import numpy as np\n",
        "import matplotlib.pyplot as plt\n",
        "%matplotlib inline\n",
        "import os\n",
        "from PIL import Image\n",
        "import pathlib\n",
        "import csv\n",
        "from sklearn.model_selection import train_test_split\n",
        "from sklearn.preprocessing import LabelEncoder, StandardScaler\n",
        "import keras\n",
        "from keras import layers\n",
        "from keras import layers\n",
        "import keras\n",
        "from keras.models import model_from_json\n",
        "from keras.models import Sequential\n",
        "import warnings\n",
        "warnings.filterwarnings('ignore')"
      ],
      "execution_count": 1,
      "outputs": [
        {
          "output_type": "stream",
          "text": [
            "Using TensorFlow backend.\n"
          ],
          "name": "stderr"
        }
      ]
    },
    {
      "cell_type": "code",
      "metadata": {
        "id": "GThlwEZUEkeW",
        "colab_type": "code",
        "colab": {}
      },
      "source": [
        "def Prediction(songname,model_name,model_wt):\n",
        "  y,sr = librosa.load(songname, mono=True, duration=30)\n",
        "  rmse = librosa.feature.rmse(y=y)\n",
        "  chroma_stft = librosa.feature.chroma_stft(y=y, sr=sr)\n",
        "  spec_cent = librosa.feature.spectral_centroid(y=y, sr=sr)\n",
        "  spec_bw = librosa.feature.spectral_bandwidth(y=y, sr=sr)\n",
        "  rolloff = librosa.feature.spectral_rolloff(y=y, sr=sr)\n",
        "  zcr = librosa.feature.zero_crossing_rate(y)\n",
        "  mfcc = librosa.feature.mfcc(y=y, sr=sr)\n",
        "  to_append = [np.mean(chroma_stft),np.mean(rmse),np.mean(spec_cent),np.mean(spec_bw),np.mean(rolloff),np.mean(zcr)]    \n",
        "  for e in mfcc:\n",
        "        to_append.append(np.mean(e))\n",
        "  \n",
        "  data = pd.DataFrame([to_append])\n",
        "  data.astype('float64')\n",
        "  #Encoding the Labels\n",
        "  #genre_list = data.iloc[:, -1]\n",
        "  #encoder = LabelEncoder()\n",
        "  #y = encoder.fit_transform(genre_list)\n",
        "  #Scaling the Feature columns\n",
        "  scaler = StandardScaler()\n",
        "  X = scaler.fit_transform(np.array(data, dtype = float))\n",
        "  #load and create model\n",
        "  json_file = open(model_name, 'r')\n",
        "  loaded_model_json = json_file.read()\n",
        "  json_file.close()\n",
        "  loaded_model = model_from_json(loaded_model_json)\n",
        "  # load weights into new model\n",
        "  loaded_model.load_weights(model_wt)\n",
        "\n",
        "  pred=loaded_model.predict(X)\n",
        "  #argmax() method \n",
        "  pred = [np.argmax(line) for line in pred]\n",
        "  dic ={0:'blues', 1:'classical', 2:'country', 3:'disco', 4:'hiphop', 5:'jazz',\n",
        "       6:'metal', 7:'pop', 8:'reggae', 9:'rock'}\n",
        "  pred = [dic.get(n, n) for n in pred]\n",
        "    \n",
        "  return pred"
      ],
      "execution_count": 2,
      "outputs": []
    },
    {
      "cell_type": "code",
      "metadata": {
        "id": "19DZe8MwMPnt",
        "colab_type": "code",
        "colab": {
          "base_uri": "https://localhost:8080/",
          "height": 33
        },
        "outputId": "2569e04c-8b0b-4d04-b7f3-627ed9ac3e39"
      },
      "source": [
        "Prediction('song.wav','model.json','model.h5')"
      ],
      "execution_count": 5,
      "outputs": [
        {
          "output_type": "execute_result",
          "data": {
            "text/plain": [
              "['reggae']"
            ]
          },
          "metadata": {
            "tags": []
          },
          "execution_count": 5
        }
      ]
    },
    {
      "cell_type": "code",
      "metadata": {
        "id": "tNNQfKEd4iwu",
        "colab_type": "code",
        "colab": {}
      },
      "source": [
        ""
      ],
      "execution_count": null,
      "outputs": []
    }
  ]
}