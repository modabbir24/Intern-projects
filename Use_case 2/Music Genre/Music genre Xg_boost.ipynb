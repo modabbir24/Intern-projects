{
 "cells": [
  {
   "cell_type": "code",
   "execution_count": 1,
   "metadata": {},
   "outputs": [],
   "source": [
    "# META CODE\n",
    "from sklearn.multiclass import OneVsRestClassifier\n",
    "from xgboost import XGBClassifier\n",
    "from sklearn.preprocessing import MultiLabelBinarizer"
   ]
  },
  {
   "cell_type": "code",
   "execution_count": 3,
   "metadata": {},
   "outputs": [],
   "source": [
    "import pandas as pd\n",
    "import numpy as np\n",
    "import matplotlib.pyplot as plt\n",
    "%matplotlib inline\n",
    "import os\n",
    "import seaborn as sns\n",
    "import csv\n",
    "from sklearn.model_selection import train_test_split\n",
    "from sklearn.preprocessing import LabelEncoder, StandardScaler\n",
    "import warnings\n",
    "warnings.filterwarnings('ignore')"
   ]
  },
  {
   "cell_type": "code",
   "execution_count": 4,
   "metadata": {},
   "outputs": [],
   "source": [
    "data = pd.read_csv('dataset.csv')\n",
    "# Dropping unneccesary columns\n",
    "data = data.drop(['filename'],axis=1)"
   ]
  },
  {
   "cell_type": "code",
   "execution_count": 5,
   "metadata": {},
   "outputs": [],
   "source": [
    "data['label'].replace({'blues':0, 'classical':1, 'country':2, 'disco':3, 'hiphop':4, 'jazz':5,\n",
    "       'metal':6, 'pop':7, 'reggae':8, 'rock':9},inplace=True)"
   ]
  },
  {
   "cell_type": "code",
   "execution_count": 6,
   "metadata": {},
   "outputs": [],
   "source": [
    "#Scaling using the Standard Scaler\n",
    "sc_1=StandardScaler()\n",
    "sc_1.fit(data)\n",
    "X=pd.DataFrame(sc_1.fit_transform(data.drop('label',1)))\n",
    "y=data.label"
   ]
  },
  {
   "cell_type": "code",
   "execution_count": 7,
   "metadata": {},
   "outputs": [],
   "source": [
    "#Now splitting our dataset into test and train \n",
    "from sklearn.model_selection import train_test_split \n",
    "X_train,X_test,y_train,y_test=train_test_split(X,y,test_size=.3)"
   ]
  },
  {
   "cell_type": "code",
   "execution_count": 9,
   "metadata": {},
   "outputs": [
    {
     "data": {
      "text/plain": [
       "OneVsRestClassifier(estimator=XGBClassifier(base_score=0.5, booster='gbtree',\n",
       "                                            colsample_bylevel=1,\n",
       "                                            colsample_bynode=1,\n",
       "                                            colsample_bytree=1, gamma=0,\n",
       "                                            learning_rate=0.1, max_delta_step=0,\n",
       "                                            max_depth=4, min_child_weight=1,\n",
       "                                            missing=None, n_estimators=100,\n",
       "                                            n_jobs=-1, nthread=None,\n",
       "                                            objective='binary:logistic',\n",
       "                                            random_state=0, reg_alpha=0,\n",
       "                                            reg_lambda=1, scale_pos_weight=1,\n",
       "                                            seed=None, silent=None, subsample=1,\n",
       "                                            verbosity=1),\n",
       "                    n_jobs=None)"
      ]
     },
     "execution_count": 9,
     "metadata": {},
     "output_type": "execute_result"
    }
   ],
   "source": [
    "clf = OneVsRestClassifier(XGBClassifier(n_jobs=-1, max_depth=4))\n",
    "\n",
    "clf.fit(X_train, y_train)"
   ]
  },
  {
   "cell_type": "code",
   "execution_count": 14,
   "metadata": {},
   "outputs": [],
   "source": [
    "y_pred=clf.predict(X_test)"
   ]
  },
  {
   "cell_type": "code",
   "execution_count": 15,
   "metadata": {},
   "outputs": [],
   "source": [
    "from sklearn.metrics import f1_score,classification_report,confusion_matrix,roc_auc_score,precision_score,recall_score"
   ]
  },
  {
   "cell_type": "code",
   "execution_count": 16,
   "metadata": {},
   "outputs": [
    {
     "data": {
      "text/plain": [
       "0.637601355510143"
      ]
     },
     "execution_count": 16,
     "metadata": {},
     "output_type": "execute_result"
    }
   ],
   "source": [
    "#using precision score for error metrics\n",
    "precision_score(y_pred,y_test,average='macro').mean()"
   ]
  },
  {
   "cell_type": "code",
   "execution_count": 17,
   "metadata": {},
   "outputs": [
    {
     "data": {
      "text/plain": [
       "0.6290319279032898"
      ]
     },
     "execution_count": 17,
     "metadata": {},
     "output_type": "execute_result"
    }
   ],
   "source": [
    "#using precision score for error metrics\n",
    "f1_score(y_pred,y_test,average='macro')"
   ]
  },
  {
   "cell_type": "code",
   "execution_count": 18,
   "metadata": {},
   "outputs": [
    {
     "data": {
      "text/plain": [
       "0.6358191283029992"
      ]
     },
     "execution_count": 18,
     "metadata": {},
     "output_type": "execute_result"
    }
   ],
   "source": [
    "#using precision score for error metrics\n",
    "recall_score(y_pred,y_test,average='macro')"
   ]
  },
  {
   "cell_type": "code",
   "execution_count": 19,
   "metadata": {},
   "outputs": [],
   "source": [
    "import pickle\n",
    "# save the model to disk\n",
    "filename = 'XG_boost_model.sav'\n",
    "pickle.dump(clf, open(filename, 'wb'))"
   ]
  },
  {
   "cell_type": "code",
   "execution_count": 21,
   "metadata": {},
   "outputs": [
    {
     "data": {
      "text/html": [
       "<div>\n",
       "<style scoped>\n",
       "    .dataframe tbody tr th:only-of-type {\n",
       "        vertical-align: middle;\n",
       "    }\n",
       "\n",
       "    .dataframe tbody tr th {\n",
       "        vertical-align: top;\n",
       "    }\n",
       "\n",
       "    .dataframe thead th {\n",
       "        text-align: right;\n",
       "    }\n",
       "</style>\n",
       "<table border=\"1\" class=\"dataframe\">\n",
       "  <thead>\n",
       "    <tr style=\"text-align: right;\">\n",
       "      <th></th>\n",
       "      <th>0</th>\n",
       "      <th>1</th>\n",
       "      <th>2</th>\n",
       "      <th>3</th>\n",
       "      <th>4</th>\n",
       "      <th>5</th>\n",
       "      <th>6</th>\n",
       "      <th>7</th>\n",
       "      <th>8</th>\n",
       "      <th>9</th>\n",
       "      <th>...</th>\n",
       "      <th>16</th>\n",
       "      <th>17</th>\n",
       "      <th>18</th>\n",
       "      <th>19</th>\n",
       "      <th>20</th>\n",
       "      <th>21</th>\n",
       "      <th>22</th>\n",
       "      <th>23</th>\n",
       "      <th>24</th>\n",
       "      <th>25</th>\n",
       "    </tr>\n",
       "  </thead>\n",
       "  <tbody>\n",
       "    <tr>\n",
       "      <th>386</th>\n",
       "      <td>2.320604</td>\n",
       "      <td>-0.634378</td>\n",
       "      <td>1.118933</td>\n",
       "      <td>0.956665</td>\n",
       "      <td>1.272812</td>\n",
       "      <td>1.316016</td>\n",
       "      <td>-0.222208</td>\n",
       "      <td>-1.016136</td>\n",
       "      <td>0.927093</td>\n",
       "      <td>0.068127</td>\n",
       "      <td>...</td>\n",
       "      <td>-0.381559</td>\n",
       "      <td>1.447016</td>\n",
       "      <td>-0.202918</td>\n",
       "      <td>2.042640</td>\n",
       "      <td>-0.451888</td>\n",
       "      <td>1.339684</td>\n",
       "      <td>-0.058424</td>\n",
       "      <td>1.196550</td>\n",
       "      <td>-0.585097</td>\n",
       "      <td>1.187957</td>\n",
       "    </tr>\n",
       "    <tr>\n",
       "      <th>737</th>\n",
       "      <td>0.067528</td>\n",
       "      <td>2.267527</td>\n",
       "      <td>2.421254</td>\n",
       "      <td>2.408441</td>\n",
       "      <td>2.511774</td>\n",
       "      <td>1.997935</td>\n",
       "      <td>1.247960</td>\n",
       "      <td>-1.520954</td>\n",
       "      <td>2.118192</td>\n",
       "      <td>-1.391072</td>\n",
       "      <td>...</td>\n",
       "      <td>0.828691</td>\n",
       "      <td>0.262103</td>\n",
       "      <td>0.584821</td>\n",
       "      <td>-0.780091</td>\n",
       "      <td>0.472664</td>\n",
       "      <td>-0.417840</td>\n",
       "      <td>0.879333</td>\n",
       "      <td>0.601357</td>\n",
       "      <td>0.839248</td>\n",
       "      <td>0.771294</td>\n",
       "    </tr>\n",
       "    <tr>\n",
       "      <th>641</th>\n",
       "      <td>1.394497</td>\n",
       "      <td>1.470602</td>\n",
       "      <td>0.985454</td>\n",
       "      <td>0.251406</td>\n",
       "      <td>0.602213</td>\n",
       "      <td>1.649668</td>\n",
       "      <td>1.491612</td>\n",
       "      <td>-0.782387</td>\n",
       "      <td>-0.729014</td>\n",
       "      <td>1.243320</td>\n",
       "      <td>...</td>\n",
       "      <td>-1.025854</td>\n",
       "      <td>2.157652</td>\n",
       "      <td>-0.793246</td>\n",
       "      <td>1.912734</td>\n",
       "      <td>-0.696398</td>\n",
       "      <td>1.438284</td>\n",
       "      <td>-0.312957</td>\n",
       "      <td>0.749527</td>\n",
       "      <td>-1.226949</td>\n",
       "      <td>1.992155</td>\n",
       "    </tr>\n",
       "    <tr>\n",
       "      <th>210</th>\n",
       "      <td>-1.068770</td>\n",
       "      <td>-0.856413</td>\n",
       "      <td>-0.476209</td>\n",
       "      <td>-0.219443</td>\n",
       "      <td>-0.510256</td>\n",
       "      <td>-0.648737</td>\n",
       "      <td>-0.531317</td>\n",
       "      <td>0.222222</td>\n",
       "      <td>0.207114</td>\n",
       "      <td>0.081534</td>\n",
       "      <td>...</td>\n",
       "      <td>0.260139</td>\n",
       "      <td>-1.194997</td>\n",
       "      <td>0.559506</td>\n",
       "      <td>-1.776657</td>\n",
       "      <td>0.462968</td>\n",
       "      <td>-0.794365</td>\n",
       "      <td>-0.238750</td>\n",
       "      <td>-0.052233</td>\n",
       "      <td>0.905369</td>\n",
       "      <td>-0.147669</td>\n",
       "    </tr>\n",
       "    <tr>\n",
       "      <th>60</th>\n",
       "      <td>-0.593047</td>\n",
       "      <td>-0.527055</td>\n",
       "      <td>0.891023</td>\n",
       "      <td>0.383186</td>\n",
       "      <td>0.723995</td>\n",
       "      <td>1.212970</td>\n",
       "      <td>0.153644</td>\n",
       "      <td>-0.876488</td>\n",
       "      <td>0.054080</td>\n",
       "      <td>0.777909</td>\n",
       "      <td>...</td>\n",
       "      <td>-1.615277</td>\n",
       "      <td>0.392435</td>\n",
       "      <td>-2.142123</td>\n",
       "      <td>0.227916</td>\n",
       "      <td>-2.177042</td>\n",
       "      <td>0.635105</td>\n",
       "      <td>-2.322407</td>\n",
       "      <td>1.744449</td>\n",
       "      <td>-1.564518</td>\n",
       "      <td>-0.237551</td>\n",
       "    </tr>\n",
       "  </tbody>\n",
       "</table>\n",
       "<p>5 rows × 26 columns</p>\n",
       "</div>"
      ],
      "text/plain": [
       "           0         1         2         3         4         5         6   \\\n",
       "386  2.320604 -0.634378  1.118933  0.956665  1.272812  1.316016 -0.222208   \n",
       "737  0.067528  2.267527  2.421254  2.408441  2.511774  1.997935  1.247960   \n",
       "641  1.394497  1.470602  0.985454  0.251406  0.602213  1.649668  1.491612   \n",
       "210 -1.068770 -0.856413 -0.476209 -0.219443 -0.510256 -0.648737 -0.531317   \n",
       "60  -0.593047 -0.527055  0.891023  0.383186  0.723995  1.212970  0.153644   \n",
       "\n",
       "           7         8         9   ...        16        17        18  \\\n",
       "386 -1.016136  0.927093  0.068127  ... -0.381559  1.447016 -0.202918   \n",
       "737 -1.520954  2.118192 -1.391072  ...  0.828691  0.262103  0.584821   \n",
       "641 -0.782387 -0.729014  1.243320  ... -1.025854  2.157652 -0.793246   \n",
       "210  0.222222  0.207114  0.081534  ...  0.260139 -1.194997  0.559506   \n",
       "60  -0.876488  0.054080  0.777909  ... -1.615277  0.392435 -2.142123   \n",
       "\n",
       "           19        20        21        22        23        24        25  \n",
       "386  2.042640 -0.451888  1.339684 -0.058424  1.196550 -0.585097  1.187957  \n",
       "737 -0.780091  0.472664 -0.417840  0.879333  0.601357  0.839248  0.771294  \n",
       "641  1.912734 -0.696398  1.438284 -0.312957  0.749527 -1.226949  1.992155  \n",
       "210 -1.776657  0.462968 -0.794365 -0.238750 -0.052233  0.905369 -0.147669  \n",
       "60   0.227916 -2.177042  0.635105 -2.322407  1.744449 -1.564518 -0.237551  \n",
       "\n",
       "[5 rows x 26 columns]"
      ]
     },
     "execution_count": 21,
     "metadata": {},
     "output_type": "execute_result"
    }
   ],
   "source": [
    "X_test.head()"
   ]
  },
  {
   "cell_type": "code",
   "execution_count": 22,
   "metadata": {},
   "outputs": [],
  }
