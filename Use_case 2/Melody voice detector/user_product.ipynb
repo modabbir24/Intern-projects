{
  "nbformat": 4,
  "nbformat_minor": 0,
  "metadata": {
    "colab": {
      "name": "song recommendation sys",
      "provenance": []
    },
    "kernelspec": {
      "name": "python3",
      "display_name": "Python 3"
    }
  },
  "cells": [
    {
      "cell_type": "code",
      "metadata": {
        "id": "4EQI4yhrhQ0I",
        "colab_type": "code",
        "colab": {}
      },
      "source": [
        "import pandas as pd\n",
        "import numpy as np\n",
        "from numpy import argmax\n",
        "import matplotlib.pyplot as plt\n",
        "%matplotlib inline\n",
        "import librosa\n",
        "import librosa.display\n",
        "import IPython.display\n",
        "import random\n",
        "import warnings\n",
        "import os\n",
        "from PIL import Image\n",
        "import pathlib\n",
        "import csv\n",
        "from keras.optimizers import SGD"
      ],
      "execution_count": 0,
      "outputs": []
    },
    {
      "cell_type": "code",
      "metadata": {
        "id": "oRJD4irWhshc",
        "colab_type": "code",
        "colab": {}
      },
      "source": [
        "#Keras\n",
        "import keras\n",
        "import warnings\n",
        "warnings.filterwarnings('ignore')\n",
        "\n",
        "from keras.preprocessing.image import ImageDataGenerator\n",
        "from keras.models import model_from_json\n",
        "from keras.preprocessing import image"
      ],
      "execution_count": 0,
      "outputs": []
    },
    {
      "cell_type": "code",
      "metadata": {
        "id": "E7LPVCZNcjIJ",
        "colab_type": "code",
        "colab": {}
      },
      "source": [
        "def spectogram_fig(song):\n",
        "  fig=plt.figure()\n",
        "  cmap = plt.get_cmap('inferno')\n",
        "  plt.figure(figsize=(8,8))\n",
        "  y, sr = librosa.load(song, mono=True, duration=5)\n",
        "  plt.specgram(y, NFFT=2048, Fs=2, Fc=0, noverlap=128, cmap=cmap, sides='default', mode='default', scale='dB');\n",
        "  plt.axis('off');\n",
        "  plt.savefig('plot.png')\n",
        "  plt.clf()"
      ],
      "execution_count": 0,
      "outputs": []
    },
    {
      "cell_type": "code",
      "metadata": {
        "id": "9g5qZ7HP4h6B",
        "colab_type": "code",
        "colab": {}
      },
      "source": [
        "def Prediction(songname,model_name,model_wt):\n",
        "  spectogram_fig(songname)\n",
        "  # create image data augmentation generator\n",
        "  datagen = ImageDataGenerator(rescale=1./255)\n",
        "  img = image.load_img('plot.png', target_size = (64, 64))\n",
        "  img = image.img_to_array(img)\n",
        "  img = np.expand_dims(img, axis = 0)\n",
        "\n",
        "  #load and create model\n",
        "  json_file = open(model_name, 'r')\n",
        "  loaded_model_json = json_file.read()\n",
        "  json_file.close()\n",
        "  loaded_model = model_from_json(loaded_model_json)\n",
        "  # load weights into new model\n",
        "  loaded_model.load_weights(model_wt)\n",
        "\n",
        "  pred=loaded_model.predict(img)\n",
        "  predicted_class_indices=np.argmax(pred,axis=1)\n",
        "  labels=dict({0: 'Noises', 1: 'melody'})\n",
        "  predictions = [labels[k] for k in predicted_class_indices]\n",
        "  predictions = predictions[:1]\n",
        "  return predictions"
      ],
      "execution_count": 0,
      "outputs": []
    },
    {
      "cell_type": "code",
      "metadata": {
        "id": "61YZDSY22z25",
        "colab_type": "code",
        "colab": {
          "base_uri": "https://localhost:8080/",
          "height": 67
        },
        "outputId": "9d878281-d4cf-4bf9-a52f-373e2c46e075"
      },
      "source": [
        "Prediction('Recording (online-audio-converter.com).mp3','model.json','model.h5')"
      ],
      "execution_count": 123,
      "outputs": [
        {
          "output_type": "execute_result",
          "data": {
            "text/plain": [
              "['Noises']"
            ]
          },
          "metadata": {
            "tags": []
          },
          "execution_count": 123
        },
        {
          "output_type": "display_data",
          "data": {
            "text/plain": [
              "<Figure size 432x288 with 0 Axes>"
            ]
          },
          "metadata": {
            "tags": []
          }
        },
        {
          "output_type": "display_data",
          "data": {
            "text/plain": [
              "<Figure size 576x576 with 0 Axes>"
            ]
          },
          "metadata": {
            "tags": []
          }
        }
      ]
    }
  ]
}
