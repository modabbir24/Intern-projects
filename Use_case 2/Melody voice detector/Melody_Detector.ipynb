{
  "nbformat": 4,
  "nbformat_minor": 0,
  "metadata": {
    "colab": {
      "name": "Melody Detector.ipynb",
      "provenance": [],
      "toc_visible": true
    },
    "kernelspec": {
      "name": "python3",
      "display_name": "Python 3"
    }
  },
  "cells": [
    {
      "cell_type": "code",
      "metadata": {
        "id": "7m9jx9nDFQYI",
        "colab_type": "code",
        "colab": {}
      },
      "source": [
        "import pandas as pd\n",
        "import numpy as np\n",
        "from numpy import argmax\n",
        "import matplotlib.pyplot as plt\n",
        "%matplotlib inline\n",
        "import librosa\n",
        "import librosa.display\n",
        "import IPython.display\n",
        "import random\n",
        "import warnings\n",
        "import os\n",
        "from PIL import Image\n",
        "import pathlib\n",
        "import csv\n",
        "# sklearn Preprocessing\n",
        "from sklearn.model_selection import train_test_split\n",
        "#Keras\n",
        "import keras\n",
        "import warnings\n",
        "warnings.filterwarnings('ignore')\n",
        "from keras import layers\n",
        "from keras.layers import Activation, Dense, Dropout, Conv2D, Flatten, MaxPooling2D, GlobalMaxPooling2D, GlobalAveragePooling1D, AveragePooling2D, Input, Add\n",
        "from keras.models import Sequential\n",
        "from keras.optimizers import SGD"
      ],
      "execution_count": 0,
      "outputs": []
    },
    {
      "cell_type": "code",
      "metadata": {
        "id": "FwAQD7QA0R6U",
        "colab_type": "code",
        "outputId": "d6c316a7-fe5c-47ed-9f53-6cb9c9b9b334",
        "colab": {
          "base_uri": "https://localhost:8080/",
          "height": 1000
        }
      },
      "source": [
        "cmap = plt.get_cmap('inferno')\n",
        "plt.figure(figsize=(8,8))\n",
        "\n",
        "category = 'melody Noises'.split()\n",
        "for g in category:\n",
        "    pathlib.Path(f'img_data/{g}').mkdir(parents=True, exist_ok=True)\n",
        "    for filename in os.listdir(f'./drive/My Drive/Colab Notebooks/Melody detection/{g}'):\n",
        "        songname = f'./drive/My Drive/Colab Notebooks/Melody detection/{g}/{filename}'\n",
        "        y, sr = librosa.load(songname, mono=True, duration=5)\n",
        "        print(y.shape)\n",
        "        plt.specgram(y, NFFT=2048, Fs=2, Fc=0, noverlap=128, cmap=cmap, sides='default', mode='default', scale='dB');\n",
        "        plt.axis('off');\n",
        "        plt.savefig(f'img_data/{g}/{filename[:-3].replace(\".\", \"\")}.png')\n",
        "        plt.clf()"
      ],
      "execution_count": 0,
      "outputs": [
        {
          "output_type": "stream",
          "text": [
            "(110250,)\n",
            "(110250,)\n",
            "(110250,)\n",
            "(110250,)\n",
            "(110250,)\n",
            "(110250,)\n",
            "(110250,)\n",
            "(110250,)\n",
            "(60417,)\n",
            "(110250,)\n",
            "(110250,)\n",
            "(110250,)\n",
            "(110250,)\n",
            "(110250,)\n",
            "(110250,)\n",
            "(110250,)\n",
            "(110250,)\n",
            "(110250,)\n",
            "(110250,)\n",
            "(110250,)\n",
            "(110250,)\n",
            "(110250,)\n",
            "(110250,)\n",
            "(110250,)\n",
            "(110250,)\n",
            "(110250,)\n",
            "(110250,)\n",
            "(110250,)\n",
            "(110250,)\n",
            "(110250,)\n",
            "(110250,)\n",
            "(110250,)\n",
            "(110250,)\n",
            "(110250,)\n",
            "(110250,)\n",
            "(110250,)\n",
            "(110250,)\n",
            "(110250,)\n",
            "(110250,)\n",
            "(110250,)\n",
            "(110250,)\n",
            "(110250,)\n",
            "(110250,)\n",
            "(110250,)\n",
            "(110250,)\n",
            "(110250,)\n",
            "(110250,)\n",
            "(110250,)\n",
            "(110250,)\n",
            "(110250,)\n",
            "(110250,)\n",
            "(110250,)\n",
            "(110250,)\n",
            "(110250,)\n",
            "(110250,)\n",
            "(110250,)\n",
            "(110250,)\n",
            "(110250,)\n",
            "(110250,)\n",
            "(110250,)\n",
            "(110250,)\n",
            "(110250,)\n",
            "(110250,)\n",
            "(110250,)\n",
            "(110250,)\n",
            "(110250,)\n",
            "(110250,)\n",
            "(110250,)\n",
            "(110250,)\n",
            "(110250,)\n",
            "(110250,)\n",
            "(110250,)\n",
            "(110250,)\n",
            "(110250,)\n",
            "(110250,)\n",
            "(110250,)\n",
            "(110250,)\n",
            "(110250,)\n",
            "(110250,)\n",
            "(110250,)\n",
            "(110250,)\n",
            "(110250,)\n",
            "(110250,)\n",
            "(110250,)\n",
            "(110250,)\n",
            "(110250,)\n",
            "(110250,)\n",
            "(110250,)\n",
            "(110250,)\n",
            "(110250,)\n",
            "(110250,)\n",
            "(110250,)\n",
            "(110250,)\n",
            "(110250,)\n",
            "(110250,)\n",
            "(110250,)\n",
            "(110250,)\n",
            "(110250,)\n",
            "(110250,)\n",
            "(110250,)\n",
            "(110250,)\n",
            "(110250,)\n",
            "(110250,)\n",
            "(110250,)\n",
            "(110250,)\n",
            "(110250,)\n",
            "(110250,)\n",
            "(110250,)\n",
            "(110250,)\n",
            "(110250,)\n",
            "(110250,)\n",
            "(110250,)\n",
            "(110250,)\n",
            "(110250,)\n",
            "(110250,)\n",
            "(110250,)\n",
            "(43880,)\n",
            "(110250,)\n",
            "(110250,)\n",
            "(110250,)\n",
            "(110250,)\n",
            "(110250,)\n",
            "(110250,)\n",
            "(110250,)\n",
            "(110250,)\n",
            "(110250,)\n",
            "(110250,)\n",
            "(110250,)\n",
            "(110250,)\n",
            "(110250,)\n",
            "(110250,)\n",
            "(110250,)\n",
            "(110250,)\n",
            "(110250,)\n",
            "(110250,)\n",
            "(110250,)\n",
            "(110250,)\n",
            "(110250,)\n",
            "(110250,)\n",
            "(110250,)\n",
            "(110250,)\n",
            "(110250,)\n",
            "(110250,)\n",
            "(110250,)\n",
            "(110250,)\n",
            "(110250,)\n",
            "(110250,)\n",
            "(110250,)\n",
            "(110250,)\n",
            "(110250,)\n",
            "(110250,)\n",
            "(110250,)\n",
            "(110250,)\n",
            "(110250,)\n",
            "(110250,)\n",
            "(110250,)\n",
            "(110250,)\n",
            "(110250,)\n",
            "(110250,)\n",
            "(110250,)\n",
            "(110250,)\n",
            "(110250,)\n",
            "(110250,)\n",
            "(110250,)\n",
            "(110250,)\n",
            "(110250,)\n",
            "(110250,)\n",
            "(110250,)\n",
            "(110250,)\n",
            "(110250,)\n",
            "(110250,)\n",
            "(110250,)\n",
            "(110250,)\n",
            "(110250,)\n",
            "(110250,)\n",
            "(110250,)\n",
            "(110250,)\n",
            "(110250,)\n",
            "(110250,)\n",
            "(110250,)\n",
            "(110250,)\n",
            "(110250,)\n",
            "(110250,)\n",
            "(110250,)\n",
            "(110250,)\n",
            "(110250,)\n",
            "(110250,)\n",
            "(110250,)\n",
            "(110250,)\n",
            "(110250,)\n",
            "(110250,)\n",
            "(110250,)\n",
            "(110250,)\n",
            "(110250,)\n",
            "(110250,)\n",
            "(110250,)\n",
            "(110250,)\n",
            "(110250,)\n",
            "(110250,)\n",
            "(110250,)\n",
            "(110250,)\n",
            "(110250,)\n",
            "(110250,)\n",
            "(110250,)\n",
            "(110250,)\n",
            "(110250,)\n",
            "(110250,)\n",
            "(110250,)\n",
            "(110250,)\n",
            "(110250,)\n",
            "(110250,)\n",
            "(110250,)\n",
            "(110250,)\n",
            "(110250,)\n",
            "(110250,)\n",
            "(110250,)\n",
            "(110250,)\n",
            "(110250,)\n",
            "(110250,)\n",
            "(110250,)\n",
            "(110250,)\n",
            "(110250,)\n",
            "(110250,)\n",
            "(110250,)\n",
            "(110250,)\n",
            "(110250,)\n",
            "(110250,)\n",
            "(110250,)\n",
            "(110250,)\n",
            "(110250,)\n",
            "(110250,)\n",
            "(110250,)\n",
            "(110250,)\n",
            "(110250,)\n",
            "(110250,)\n",
            "(110250,)\n",
            "(110250,)\n",
            "(110250,)\n"
          ],
          "name": "stdout"
        },
        {
          "output_type": "display_data",
          "data": {
            "text/plain": [
              "<Figure size 576x576 with 0 Axes>"
            ]
          },
          "metadata": {
            "tags": []
          }
        }
      ]
    },
    {
      "cell_type": "code",
      "metadata": {
        "id": "-md0HChY27DZ",
        "colab_type": "code",
        "outputId": "66f28cba-b81d-4381-9c78-2494457896e2",
        "colab": {
          "base_uri": "https://localhost:8080/",
          "height": 33
        }
      },
      "source": [
        "songname"
      ],
      "execution_count": 0,
      "outputs": [
        {
          "output_type": "execute_result",
          "data": {
            "text/plain": [
              "'./drive/My Drive/Colab Notebooks/Melody detection/Noises/Recording (online-audio-converter.com)83.mp3'"
            ]
          },
          "metadata": {
            "tags": []
          },
          "execution_count": 18
        }
      ]
    },
    {
      "cell_type": "code",
      "metadata": {
        "id": "8vsKcqjw7mvJ",
        "colab_type": "code",
        "outputId": "dc0fb534-b8b5-4e00-865d-185f3e04116b",
        "colab": {
          "base_uri": "https://localhost:8080/",
          "height": 104
        }
      },
      "source": [
        "!pip install split_folders"
      ],
      "execution_count": 0,
      "outputs": [
        {
          "output_type": "stream",
          "text": [
            "Collecting split_folders\n",
            "  Downloading https://files.pythonhosted.org/packages/20/67/29dda743e6d23ac1ea3d16704d8bbb48d65faf3f1b1eaf53153b3da56c56/split_folders-0.3.1-py3-none-any.whl\n",
            "Installing collected packages: split-folders\n",
            "Successfully installed split-folders-0.3.1\n"
          ],
          "name": "stdout"
        }
      ]
    },
    {
      "cell_type": "markdown",
      "metadata": {
        "id": "dUTapTyM_F6u",
        "colab_type": "text"
      },
      "source": [
        "# We will split data by 80% in training and 20% in the test set."
      ]
    },
    {
      "cell_type": "code",
      "metadata": {
        "id": "fcHPpzSc-9Tf",
        "colab_type": "code",
        "outputId": "697cb0e5-31e0-4470-eb60-a761f83f6143",
        "colab": {
          "base_uri": "https://localhost:8080/",
          "height": 33
        }
      },
      "source": [
        "import split_folders\n",
        "# To only split into training and validation set, set a tuple to `ratio`, i.e, `(.8, .2)`.\n",
        "split_folders.ratio('./img_data/', output=\"./data\", seed=1337, ratio=(.8, .2)) # default values"
      ],
      "execution_count": 0,
      "outputs": [
        {
          "output_type": "stream",
          "text": [
            "Copying files: 238 files [00:00, 2432.87 files/s]\n"
          ],
          "name": "stderr"
        }
      ]
    },
    {
      "cell_type": "code",
      "metadata": {
        "id": "FT9W3LCc_QbJ",
        "colab_type": "code",
        "colab": {}
      },
      "source": [
        "from keras.preprocessing.image import ImageDataGenerator\n",
        "train_datagen = ImageDataGenerator(\n",
        "        rescale=1./255, # rescale all pixel values from 0-255, so aftre this step all our pixel values are in range (0,1)\n",
        "        shear_range=0.2, #to apply some random tranfromations\n",
        "        zoom_range=0.2, #to apply zoom\n",
        "        horizontal_flip=True) # image will be flipper horiz\n",
        "test_datagen = ImageDataGenerator(rescale=1./255)"
      ],
      "execution_count": 0,
      "outputs": []
    },
    {
      "cell_type": "markdown",
      "metadata": {
        "id": "1LN6iU8nAdwg",
        "colab_type": "text"
      },
      "source": [
        "The ImageDataGenerator class has three methods flow(), flow_from_directory() and flow_from_dataframe() to read the images from a big numpy array and folders containing images.\n",
        "We will discuss only flow_from_directory()"
      ]
    },
    {
      "cell_type": "code",
      "metadata": {
        "id": "QRHEHPYfAZXI",
        "colab_type": "code",
        "outputId": "d940761b-e28c-4f2c-f63b-9933c8d96765",
        "colab": {
          "base_uri": "https://localhost:8080/",
          "height": 50
        }
      },
      "source": [
        "training_set = train_datagen.flow_from_directory(\n",
        "        './data/train',\n",
        "        target_size=(64, 64),\n",
        "        batch_size=32,\n",
        "        class_mode='categorical',\n",
        "        shuffle = False)\n",
        "test_set = test_datagen.flow_from_directory(\n",
        "        './data/val',\n",
        "        target_size=(64, 64),\n",
        "        batch_size=32,\n",
        "        class_mode='categorical',\n",
        "        shuffle = False )"
      ],
      "execution_count": 0,
      "outputs": [
        {
          "output_type": "stream",
          "text": [
            "Found 189 images belonging to 2 classes.\n",
            "Found 49 images belonging to 2 classes.\n"
          ],
          "name": "stdout"
        }
      ]
    },
    {
      "cell_type": "code",
      "metadata": {
        "id": "Vecv7Q47BLv4",
        "colab_type": "code",
        "outputId": "4c28345c-e50f-44fe-b8e0-5c19591998cb",
        "colab": {
          "base_uri": "https://localhost:8080/",
          "height": 585
        }
      },
      "source": [
        "model = Sequential()\n",
        "input_shape=(64, 64, 3)\n",
        "#1st hidden layer\n",
        "model.add(Conv2D(32, (3, 3), strides=(2, 2), input_shape=input_shape))\n",
        "model.add(AveragePooling2D((2, 2), strides=(2,2)))\n",
        "model.add(Activation('relu'))\n",
        "#2nd hidden layer\n",
        "model.add(Conv2D(64, (3, 3), padding=\"same\"))\n",
        "model.add(AveragePooling2D((2, 2), strides=(2,2)))\n",
        "model.add(Activation('relu'))\n",
        "#Flatten\n",
        "model.add(Flatten())\n",
        "model.add(Dropout(rate=0.5))\n",
        "#Add fully connected layer.\n",
        "model.add(Dense(64))\n",
        "model.add(Activation('relu'))\n",
        "model.add(Dropout(rate=0.5))\n",
        "#Output layer\n",
        "model.add(Dense(2))\n",
        "model.add(Activation('softmax'))\n",
        "model.summary()"
      ],
      "execution_count": 0,
      "outputs": [
        {
          "output_type": "stream",
          "text": [
            "Model: \"sequential_1\"\n",
            "_________________________________________________________________\n",
            "Layer (type)                 Output Shape              Param #   \n",
            "=================================================================\n",
            "conv2d_1 (Conv2D)            (None, 31, 31, 32)        896       \n",
            "_________________________________________________________________\n",
            "average_pooling2d_1 (Average (None, 15, 15, 32)        0         \n",
            "_________________________________________________________________\n",
            "activation_1 (Activation)    (None, 15, 15, 32)        0         \n",
            "_________________________________________________________________\n",
            "conv2d_2 (Conv2D)            (None, 15, 15, 64)        18496     \n",
            "_________________________________________________________________\n",
            "average_pooling2d_2 (Average (None, 7, 7, 64)          0         \n",
            "_________________________________________________________________\n",
            "activation_2 (Activation)    (None, 7, 7, 64)          0         \n",
            "_________________________________________________________________\n",
            "flatten_1 (Flatten)          (None, 3136)              0         \n",
            "_________________________________________________________________\n",
            "dropout_1 (Dropout)          (None, 3136)              0         \n",
            "_________________________________________________________________\n",
            "dense_1 (Dense)              (None, 64)                200768    \n",
            "_________________________________________________________________\n",
            "activation_3 (Activation)    (None, 64)                0         \n",
            "_________________________________________________________________\n",
            "dropout_2 (Dropout)          (None, 64)                0         \n",
            "_________________________________________________________________\n",
            "dense_2 (Dense)              (None, 2)                 130       \n",
            "_________________________________________________________________\n",
            "activation_4 (Activation)    (None, 2)                 0         \n",
            "=================================================================\n",
            "Total params: 220,290\n",
            "Trainable params: 220,290\n",
            "Non-trainable params: 0\n",
            "_________________________________________________________________\n"
          ],
          "name": "stdout"
        }
      ]
    },
    {
      "cell_type": "markdown",
      "metadata": {
        "id": "QYetlHFIBxo4",
        "colab_type": "text"
      },
      "source": [
        "Compile/train the network using Stochastic Gradient Descent(SGD). Gradient Descent works fine when we have a convex curve. But if we don’t have a convex curve, Gradient Descent fails. Hence, in Stochastic Gradient Descent, few samples are selected randomly instead of the whole data set for each iteration."
      ]
    },
    {
      "cell_type": "code",
      "metadata": {
        "id": "L7Rvwar2Bel1",
        "colab_type": "code",
        "colab": {}
      },
      "source": [
        "epochs = 200\n",
        "batch_size = 8\n",
        "learning_rate = 0.01\n",
        "decay_rate = learning_rate / epochs\n",
        "momentum = 0.9\n",
        "sgd = SGD(lr=learning_rate, momentum=momentum, decay=decay_rate, nesterov=False)\n",
        "model.compile(optimizer=\"sgd\", loss=\"categorical_crossentropy\", metrics=['accuracy'])"
      ],
      "execution_count": 0,
      "outputs": []
    },
    {
      "cell_type": "code",
      "metadata": {
        "id": "YWUeAWlwB2QN",
        "colab_type": "code",
        "outputId": "251df00a-27ce-4e71-b5c5-7f2230425dab",
        "colab": {
          "base_uri": "https://localhost:8080/",
          "height": 1000
        }
      },
      "source": [
        "#fit model with 50 epoch\n",
        "\n",
        "model.fit_generator(\n",
        "        training_set,\n",
        "        steps_per_epoch=100,\n",
        "        epochs=50,\n",
        "        validation_data=test_set,\n",
        "        validation_steps=200)"
      ],
      "execution_count": 0,
      "outputs": [
        {
          "output_type": "stream",
          "text": [
            "Epoch 1/50\n",
            "100/100 [==============================] - 108s 1s/step - loss: 0.7100 - accuracy: 0.4800 - val_loss: 0.6825 - val_accuracy: 0.9796\n",
            "Epoch 2/50\n",
            "100/100 [==============================] - 107s 1s/step - loss: 0.6838 - accuracy: 0.5668 - val_loss: 0.6802 - val_accuracy: 0.8776\n",
            "Epoch 3/50\n",
            "100/100 [==============================] - 106s 1s/step - loss: 0.6450 - accuracy: 0.6716 - val_loss: 0.6214 - val_accuracy: 0.8980\n",
            "Epoch 4/50\n",
            "100/100 [==============================] - 105s 1s/step - loss: 0.4909 - accuracy: 0.8036 - val_loss: 0.5055 - val_accuracy: 0.8571\n",
            "Epoch 5/50\n",
            "100/100 [==============================] - 108s 1s/step - loss: 0.2834 - accuracy: 0.8936 - val_loss: 0.0448 - val_accuracy: 1.0000\n",
            "Epoch 6/50\n",
            "100/100 [==============================] - 106s 1s/step - loss: 0.1559 - accuracy: 0.9536 - val_loss: 0.0077 - val_accuracy: 1.0000\n",
            "Epoch 7/50\n",
            "100/100 [==============================] - 105s 1s/step - loss: 0.1155 - accuracy: 0.9651 - val_loss: 0.0037 - val_accuracy: 1.0000\n",
            "Epoch 8/50\n",
            "100/100 [==============================] - 106s 1s/step - loss: 0.0825 - accuracy: 0.9765 - val_loss: 0.0096 - val_accuracy: 1.0000\n",
            "Epoch 9/50\n",
            "100/100 [==============================] - 114s 1s/step - loss: 0.0530 - accuracy: 0.9857 - val_loss: 0.0034 - val_accuracy: 1.0000\n",
            "Epoch 10/50\n",
            "100/100 [==============================] - 104s 1s/step - loss: 0.0509 - accuracy: 0.9851 - val_loss: 0.0039 - val_accuracy: 1.0000\n",
            "Epoch 11/50\n",
            "100/100 [==============================] - 115s 1s/step - loss: 0.0455 - accuracy: 0.9867 - val_loss: 0.0016 - val_accuracy: 1.0000\n",
            "Epoch 12/50\n",
            "100/100 [==============================] - 106s 1s/step - loss: 0.0390 - accuracy: 0.9883 - val_loss: 3.8709e-04 - val_accuracy: 1.0000\n",
            "Epoch 13/50\n",
            "100/100 [==============================] - 105s 1s/step - loss: 0.0314 - accuracy: 0.9924 - val_loss: 4.0530e-04 - val_accuracy: 1.0000\n",
            "Epoch 14/50\n",
            "100/100 [==============================] - 106s 1s/step - loss: 0.0315 - accuracy: 0.9889 - val_loss: 1.0835e-04 - val_accuracy: 1.0000\n",
            "Epoch 15/50\n",
            "100/100 [==============================] - 106s 1s/step - loss: 0.0259 - accuracy: 0.9908 - val_loss: 3.7477e-04 - val_accuracy: 1.0000\n",
            "Epoch 16/50\n",
            "100/100 [==============================] - 111s 1s/step - loss: 0.0244 - accuracy: 0.9930 - val_loss: 3.4302e-04 - val_accuracy: 1.0000\n",
            "Epoch 17/50\n",
            "100/100 [==============================] - 113s 1s/step - loss: 0.0324 - accuracy: 0.9905 - val_loss: 6.7699e-04 - val_accuracy: 1.0000\n",
            "Epoch 18/50\n",
            "100/100 [==============================] - 108s 1s/step - loss: 0.0185 - accuracy: 0.9952 - val_loss: 1.3118e-04 - val_accuracy: 1.0000\n",
            "Epoch 19/50\n",
            "100/100 [==============================] - 104s 1s/step - loss: 0.0251 - accuracy: 0.9927 - val_loss: 7.3390e-04 - val_accuracy: 1.0000\n",
            "Epoch 20/50\n",
            "100/100 [==============================] - 113s 1s/step - loss: 0.0205 - accuracy: 0.9930 - val_loss: 9.9848e-05 - val_accuracy: 1.0000\n",
            "Epoch 21/50\n",
            "100/100 [==============================] - 110s 1s/step - loss: 0.0179 - accuracy: 0.9949 - val_loss: 1.8533e-04 - val_accuracy: 1.0000\n",
            "Epoch 22/50\n",
            "100/100 [==============================] - 105s 1s/step - loss: 0.0169 - accuracy: 0.9959 - val_loss: 1.6157e-04 - val_accuracy: 1.0000\n",
            "Epoch 23/50\n",
            "100/100 [==============================] - 106s 1s/step - loss: 0.0186 - accuracy: 0.9946 - val_loss: 1.4537e-04 - val_accuracy: 1.0000\n",
            "Epoch 24/50\n",
            "100/100 [==============================] - 105s 1s/step - loss: 0.0162 - accuracy: 0.9946 - val_loss: 4.9227e-05 - val_accuracy: 1.0000\n",
            "Epoch 25/50\n",
            "100/100 [==============================] - 104s 1s/step - loss: 0.0149 - accuracy: 0.9959 - val_loss: 8.4374e-05 - val_accuracy: 1.0000\n",
            "Epoch 26/50\n",
            "100/100 [==============================] - 115s 1s/step - loss: 0.0148 - accuracy: 0.9959 - val_loss: 1.1805e-04 - val_accuracy: 1.0000\n",
            "Epoch 27/50\n",
            "100/100 [==============================] - 109s 1s/step - loss: 0.0133 - accuracy: 0.9956 - val_loss: 5.4770e-05 - val_accuracy: 1.0000\n",
            "Epoch 28/50\n",
            "100/100 [==============================] - 113s 1s/step - loss: 0.0166 - accuracy: 0.9936 - val_loss: 1.3228e-04 - val_accuracy: 1.0000\n",
            "Epoch 29/50\n",
            "100/100 [==============================] - 107s 1s/step - loss: 0.0165 - accuracy: 0.9943 - val_loss: 8.5564e-05 - val_accuracy: 1.0000\n",
            "Epoch 30/50\n",
            "100/100 [==============================] - 114s 1s/step - loss: 0.0121 - accuracy: 0.9962 - val_loss: 5.3276e-05 - val_accuracy: 1.0000\n",
            "Epoch 31/50\n",
            "100/100 [==============================] - 103s 1s/step - loss: 0.0085 - accuracy: 0.9984 - val_loss: 4.0948e-05 - val_accuracy: 1.0000\n",
            "Epoch 32/50\n",
            "100/100 [==============================] - 108s 1s/step - loss: 0.0084 - accuracy: 0.9968 - val_loss: 3.8425e-05 - val_accuracy: 1.0000\n",
            "Epoch 33/50\n",
            "100/100 [==============================] - 105s 1s/step - loss: 0.0092 - accuracy: 0.9981 - val_loss: 3.2068e-05 - val_accuracy: 1.0000\n",
            "Epoch 34/50\n",
            "100/100 [==============================] - 103s 1s/step - loss: 0.0117 - accuracy: 0.9971 - val_loss: 5.5609e-05 - val_accuracy: 1.0000\n",
            "Epoch 35/50\n",
            "100/100 [==============================] - 105s 1s/step - loss: 0.0097 - accuracy: 0.9965 - val_loss: 4.4382e-05 - val_accuracy: 1.0000\n",
            "Epoch 36/50\n",
            "100/100 [==============================] - 113s 1s/step - loss: 0.0218 - accuracy: 0.9927 - val_loss: 2.0074e-04 - val_accuracy: 1.0000\n",
            "Epoch 37/50\n",
            "100/100 [==============================] - 103s 1s/step - loss: 0.0137 - accuracy: 0.9949 - val_loss: 2.1132e-05 - val_accuracy: 1.0000\n",
            "Epoch 38/50\n",
            "100/100 [==============================] - 108s 1s/step - loss: 0.0128 - accuracy: 0.9952 - val_loss: 3.1850e-05 - val_accuracy: 1.0000\n",
            "Epoch 39/50\n",
            "100/100 [==============================] - 105s 1s/step - loss: 0.0112 - accuracy: 0.9971 - val_loss: 1.6914e-04 - val_accuracy: 1.0000\n",
            "Epoch 40/50\n",
            "100/100 [==============================] - 103s 1s/step - loss: 0.0139 - accuracy: 0.9946 - val_loss: 3.2432e-05 - val_accuracy: 1.0000\n",
            "Epoch 41/50\n",
            "100/100 [==============================] - 106s 1s/step - loss: 0.0089 - accuracy: 0.9965 - val_loss: 5.6204e-05 - val_accuracy: 1.0000\n",
            "Epoch 42/50\n",
            "100/100 [==============================] - 107s 1s/step - loss: 0.0098 - accuracy: 0.9971 - val_loss: 5.1628e-05 - val_accuracy: 1.0000\n",
            "Epoch 43/50\n",
            "100/100 [==============================] - 104s 1s/step - loss: 0.0076 - accuracy: 0.9978 - val_loss: 1.1086e-05 - val_accuracy: 1.0000\n",
            "Epoch 44/50\n",
            "100/100 [==============================] - 111s 1s/step - loss: 0.0116 - accuracy: 0.9956 - val_loss: 1.4921e-05 - val_accuracy: 1.0000\n",
            "Epoch 45/50\n",
            "100/100 [==============================] - 105s 1s/step - loss: 0.0058 - accuracy: 0.9984 - val_loss: 2.5625e-05 - val_accuracy: 1.0000\n",
            "Epoch 46/50\n",
            "100/100 [==============================] - 104s 1s/step - loss: 0.0077 - accuracy: 0.9978 - val_loss: 9.1645e-06 - val_accuracy: 1.0000\n",
            "Epoch 47/50\n",
            "100/100 [==============================] - 106s 1s/step - loss: 0.0069 - accuracy: 0.9971 - val_loss: 1.8762e-05 - val_accuracy: 1.0000\n",
            "Epoch 48/50\n",
            "100/100 [==============================] - 106s 1s/step - loss: 0.0112 - accuracy: 0.9968 - val_loss: 2.3670e-05 - val_accuracy: 1.0000\n",
            "Epoch 49/50\n",
            "100/100 [==============================] - 103s 1s/step - loss: 0.0077 - accuracy: 0.9987 - val_loss: 2.0445e-05 - val_accuracy: 1.0000\n",
            "Epoch 50/50\n",
            "100/100 [==============================] - 109s 1s/step - loss: 0.0033 - accuracy: 0.9997 - val_loss: 1.0756e-05 - val_accuracy: 1.0000\n"
          ],
          "name": "stdout"
        },
        {
          "output_type": "execute_result",
          "data": {
            "text/plain": [
              "<keras.callbacks.callbacks.History at 0x7fa10ed98320>"
            ]
          },
          "metadata": {
            "tags": []
          },
          "execution_count": 12
        }
      ]
    },
    {
      "cell_type": "code",
      "metadata": {
        "id": "K855y1GHB81V",
        "colab_type": "code",
        "outputId": "ed95a130-6fde-4958-e69e-6bd77202861a",
        "colab": {
          "base_uri": "https://localhost:8080/",
          "height": 33
        }
      },
      "source": [
        "#Model Evaluation\n",
        "model.evaluate_generator(generator=test_set, steps=50)"
      ],
      "execution_count": 0,
      "outputs": [
        {
          "output_type": "execute_result",
          "data": {
            "text/plain": [
              "[1.0756053598015569e-05, 1.0]"
            ]
          },
          "metadata": {
            "tags": []
          },
          "execution_count": 13
        }
      ]
    },
    {
      "cell_type": "code",
      "metadata": {
        "id": "9gOIUcW6aaQv",
        "colab_type": "code",
        "outputId": "c92877d7-ba59-4bd5-9aed-67e44fcfec68",
        "colab": {
          "base_uri": "https://localhost:8080/",
          "height": 33
        }
      },
      "source": [
        "test_set.reset()\n",
        "pred = model.predict_generator(test_set, steps=50, verbose=1)"
      ],
      "execution_count": 0,
      "outputs": [
        {
          "output_type": "stream",
          "text": [
            "50/50 [==============================] - 16s 310ms/step\n"
          ],
          "name": "stdout"
        }
      ]
    },
    {
      "cell_type": "code",
      "metadata": {
        "id": "IAKnTCXzfkaD",
        "colab_type": "code",
        "colab": {}
      },
      "source": [
        "predicted_class_indices=np.argmax(pred,axis=1)\n",
        "\n",
        "labels = (training_set.class_indices)\n",
        "labels = dict((v,k) for k,v in labels.items())\n",
        "predictions = [labels[k] for k in predicted_class_indices]\n",
        "predictions = predictions[:49]\n",
        "filenames=test_set.filenames"
      ],
      "execution_count": 0,
      "outputs": []
    },
    {
      "cell_type": "code",
      "metadata": {
        "id": "2Xe6XZG6g4Nt",
        "colab_type": "code",
        "outputId": "85e9cf8d-dfa0-4a08-a4fe-b27a04209e62",
        "colab": {
          "base_uri": "https://localhost:8080/",
          "height": 33
        }
      },
      "source": [
        "predicted_class_indices"
      ],
      "execution_count": 0,
      "outputs": [
        {
          "output_type": "execute_result",
          "data": {
            "text/plain": [
              "array([0, 0, 0, ..., 1, 1, 1])"
            ]
          },
          "metadata": {
            "tags": []
          },
          "execution_count": 16
        }
      ]
    },
    {
      "cell_type": "code",
      "metadata": {
        "id": "uYuNvPeifkd8",
        "colab_type": "code",
        "outputId": "7a360c35-73b4-4433-8106-67653706ccdf",
        "colab": {
          "base_uri": "https://localhost:8080/",
          "height": 33
        }
      },
      "source": [
        "print(len(filenames),',',len(predictions))"
      ],
      "execution_count": 0,
      "outputs": [
        {
          "output_type": "stream",
          "text": [
            "49 , 49\n"
          ],
          "name": "stdout"
        }
      ]
    },
    {
      "cell_type": "code",
      "metadata": {
        "id": "pn0dGeJRfkgC",
        "colab_type": "code",
        "colab": {}
      },
      "source": [
        "results=pd.DataFrame({\"Filename\":filenames,\n",
        "                      \"Predictions\":predictions})"
      ],
      "execution_count": 0,
      "outputs": []
    },
    {
      "cell_type": "code",
      "metadata": {
        "id": "4ZjuHtf9fkjO",
        "colab_type": "code",
        "outputId": "88b2ecd5-e153-4ae0-c3e9-8c6ab8520fbc",
        "colab": {
          "base_uri": "https://localhost:8080/",
          "height": 196
        }
      },
      "source": [
        "results.head()"
      ],
      "execution_count": 0,
      "outputs": [
        {
          "output_type": "execute_result",
          "data": {
            "text/html": [
              "<div>\n",
              "<style scoped>\n",
              "    .dataframe tbody tr th:only-of-type {\n",
              "        vertical-align: middle;\n",
              "    }\n",
              "\n",
              "    .dataframe tbody tr th {\n",
              "        vertical-align: top;\n",
              "    }\n",
              "\n",
              "    .dataframe thead th {\n",
              "        text-align: right;\n",
              "    }\n",
              "</style>\n",
              "<table border=\"1\" class=\"dataframe\">\n",
              "  <thead>\n",
              "    <tr style=\"text-align: right;\">\n",
              "      <th></th>\n",
              "      <th>Filename</th>\n",
              "      <th>Predictions</th>\n",
              "    </tr>\n",
              "  </thead>\n",
              "  <tbody>\n",
              "    <tr>\n",
              "      <th>0</th>\n",
              "      <td>Noises/Recording (online-audio-convertercom)10...</td>\n",
              "      <td>Noises</td>\n",
              "    </tr>\n",
              "    <tr>\n",
              "      <th>1</th>\n",
              "      <td>Noises/Recording (online-audio-convertercom)11...</td>\n",
              "      <td>Noises</td>\n",
              "    </tr>\n",
              "    <tr>\n",
              "      <th>2</th>\n",
              "      <td>Noises/Recording (online-audio-convertercom)13...</td>\n",
              "      <td>Noises</td>\n",
              "    </tr>\n",
              "    <tr>\n",
              "      <th>3</th>\n",
              "      <td>Noises/Recording (online-audio-convertercom)25...</td>\n",
              "      <td>Noises</td>\n",
              "    </tr>\n",
              "    <tr>\n",
              "      <th>4</th>\n",
              "      <td>Noises/Recording (online-audio-convertercom)28...</td>\n",
              "      <td>Noises</td>\n",
              "    </tr>\n",
              "  </tbody>\n",
              "</table>\n",
              "</div>"
            ],
            "text/plain": [
              "                                            Filename Predictions\n",
              "0  Noises/Recording (online-audio-convertercom)10...      Noises\n",
              "1  Noises/Recording (online-audio-convertercom)11...      Noises\n",
              "2  Noises/Recording (online-audio-convertercom)13...      Noises\n",
              "3  Noises/Recording (online-audio-convertercom)25...      Noises\n",
              "4  Noises/Recording (online-audio-convertercom)28...      Noises"
            ]
          },
          "metadata": {
            "tags": []
          },
          "execution_count": 19
        }
      ]
    },
    {
      "cell_type": "code",
      "metadata": {
        "id": "saU16leOoFad",
        "colab_type": "code",
        "outputId": "69b4a2c2-85ab-408c-b8b6-0d82b8a1545d",
        "colab": {
          "base_uri": "https://localhost:8080/",
          "height": 67
        }
      },
      "source": [
        "!pip install h5py"
      ],
      "execution_count": 0,
      "outputs": [
        {
          "output_type": "stream",
          "text": [
            "Requirement already satisfied: h5py in /usr/local/lib/python3.6/dist-packages (2.10.0)\n",
            "Requirement already satisfied: numpy>=1.7 in /usr/local/lib/python3.6/dist-packages (from h5py) (1.18.5)\n",
            "Requirement already satisfied: six in /usr/local/lib/python3.6/dist-packages (from h5py) (1.12.0)\n"
          ],
          "name": "stdout"
        }
      ]
    },
    {
      "cell_type": "code",
      "metadata": {
        "id": "FZnKyS0BfkZJ",
        "colab_type": "code",
        "outputId": "aae58630-a7b1-49cb-95c5-f94ea3377652",
        "colab": {
          "base_uri": "https://localhost:8080/",
          "height": 33
        }
      },
      "source": [
        "# serialize model to JSON\n",
        "model_json = model.to_json()\n",
        "with open(\"model.json\", \"w\") as json_file:\n",
        "    json_file.write(model_json)\n",
        "# serialize weights to HDF5\n",
        "model.save_weights(\"model.h5\")\n",
        "print(\"Saved model to disk\")"
      ],
      "execution_count": 0,
      "outputs": [
        {
          "output_type": "stream",
          "text": [
            "Saved model to disk\n"
          ],
          "name": "stdout"
        }
      ]
    },
    {
      "cell_type": "code",
      "metadata": {
        "id": "lhLmM2r8fkXz",
        "colab_type": "code",
        "colab": {}
      },
      "source": [
        ""
      ],
      "execution_count": 0,
      "outputs": []
    }
  ]
}