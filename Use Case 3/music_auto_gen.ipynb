{
  "nbformat": 4,
  "nbformat_minor": 0,
  "metadata": {
    "colab": {
      "name": "music_auto_gen.ipynb",
      "provenance": []
    },
    "kernelspec": {
      "name": "python3",
      "display_name": "Python 3"
    }
  },
  "cells": [
    {
      "cell_type": "code",
      "metadata": {
        "id": "NH2QS0Wyzmen",
        "colab_type": "code",
        "colab": {}
      },
      "source": [
        "#library for understanding music\n",
        "from music21 import *\n",
        "import numpy as np"
      ],
      "execution_count": 1,
      "outputs": []
    },
    {
      "cell_type": "code",
      "metadata": {
        "id": "fCEQGqpl0Cvj",
        "colab_type": "code",
        "colab": {}
      },
      "source": [
        "#defining function to read MIDI files\n",
        "def read_midi(file):\n",
        "    \n",
        "    print(\"Loading Music File:\",file)\n",
        "    \n",
        "    notes=[]\n",
        "    notes_to_parse = None\n",
        "    \n",
        "    #parsing a midi file\n",
        "    midi = converter.parse(file)\n",
        "  \n",
        "    #grouping based on different instruments\n",
        "    s2 = instrument.partitionByInstrument(midi)\n",
        "\n",
        "    #Looping over all the instruments\n",
        "    for part in s2.parts:\n",
        "        \n",
        "          notes_to_parse = part.recurse() \n",
        "      \n",
        "          #finding whether a particular element is note or a chord\n",
        "          for element in notes_to_parse:\n",
        "                \n",
        "              #note\n",
        "              if isinstance(element, note.Note):\n",
        "                  notes.append(str(element.pitch))\n",
        "                \n",
        "              #chord\n",
        "              elif isinstance(element, chord.Chord):\n",
        "                  notes.append('.'.join(str(n) for n in element.normalOrder))\n",
        "\n",
        "    return np.array(notes)"
      ],
      "execution_count": 2,
      "outputs": []
    },
    {
      "cell_type": "code",
      "metadata": {
        "id": "-_Y-1rPZ0igL",
        "colab_type": "code",
        "colab": {
          "base_uri": "https://localhost:8080/",
          "height": 1000
        },
        "outputId": "7e3401ae-78e3-44f6-9e42-80b0d6d6513f"
      },
      "source": [
        "#for listing down the file names\n",
        "import os\n",
        "\n",
        "#Array Processing\n",
        "import numpy as np\n",
        "\n",
        "#specify the path\n",
        "path='./drive/My Drive/Midi_music/'\n",
        "\n",
        "#read all the filenames\n",
        "files=[i for i in os.listdir(path) if i.endswith(\".mid\")]\n",
        "\n",
        "#reading each midi file\n",
        "notes_array = np.array([read_midi(path+i) for i in files])"
      ],
      "execution_count": 3,
      "outputs": [
        {
          "output_type": "stream",
          "text": [
            "Loading Music File: ./drive/My Drive/Midi_music/hindi instrumental Song instrumental music Old instrumental Song 2019 old Song And Music2.mp3.mid\n",
            "Loading Music File: ./drive/My Drive/Midi_music/hindi instrumental Song instrumental music Old instrumental Song 2019 old Song And Music114.mp3.mid\n",
            "Loading Music File: ./drive/My Drive/Midi_music/hindi instrumental Song instrumental music Old instrumental Song 2019 old Song And Music136.mp3.mid\n",
            "Loading Music File: ./drive/My Drive/Midi_music/hindi instrumental Song instrumental music Old instrumental Song 2019 old Song And Music163.mp3.mid\n",
            "Loading Music File: ./drive/My Drive/Midi_music/hindi instrumental Song instrumental music Old instrumental Song 2019 old Song And Music72.mp3.mid\n",
            "Loading Music File: ./drive/My Drive/Midi_music/hindi instrumental Song instrumental music Old instrumental Song 2019 old Song And Music87.mp3.mid\n",
            "Loading Music File: ./drive/My Drive/Midi_music/hindi instrumental Song instrumental music Old instrumental Song 2019 old Song And Music19.mp3.mid\n",
            "Loading Music File: ./drive/My Drive/Midi_music/hindi instrumental Song instrumental music Old instrumental Song 2019 old Song And Music153.mp3.mid\n",
            "Loading Music File: ./drive/My Drive/Midi_music/hindi instrumental Song instrumental music Old instrumental Song 2019 old Song And Music102.mp3.mid\n",
            "Loading Music File: ./drive/My Drive/Midi_music/hindi instrumental Song instrumental music Old instrumental Song 2019 old Song And Music0.mp3.mid\n",
            "Loading Music File: ./drive/My Drive/Midi_music/hindi instrumental Song instrumental music Old instrumental Song 2019 old Song And Music140.mp3.mid\n",
            "Loading Music File: ./drive/My Drive/Midi_music/hindi instrumental Song instrumental music Old instrumental Song 2019 old Song And Music48.mp3.mid\n",
            "Loading Music File: ./drive/My Drive/Midi_music/hindi instrumental Song instrumental music Old instrumental Song 2019 old Song And Music145.mp3.mid\n",
            "Loading Music File: ./drive/My Drive/Midi_music/hindi instrumental Song instrumental music Old instrumental Song 2019 old Song And Music129.mp3.mid\n",
            "Loading Music File: ./drive/My Drive/Midi_music/hindi instrumental Song instrumental music Old instrumental Song 2019 old Song And Music18.mp3.mid\n",
            "Loading Music File: ./drive/My Drive/Midi_music/hindi instrumental Song instrumental music Old instrumental Song 2019 old Song And Music5.mp3.mid\n",
            "Loading Music File: ./drive/My Drive/Midi_music/hindi instrumental Song instrumental music Old instrumental Song 2019 old Song And Music82.mp3.mid\n",
            "Loading Music File: ./drive/My Drive/Midi_music/hindi instrumental Song instrumental music Old instrumental Song 2019 old Song And Music51.mp3.mid\n",
            "Loading Music File: ./drive/My Drive/Midi_music/hindi instrumental Song instrumental music Old instrumental Song 2019 old Song And Music138.mp3.mid\n",
            "Loading Music File: ./drive/My Drive/Midi_music/hindi instrumental Song instrumental music Old instrumental Song 2019 old Song And Music91.mp3.mid\n",
            "Loading Music File: ./drive/My Drive/Midi_music/hindi instrumental Song instrumental music Old instrumental Song 2019 old Song And Music112.mp3.mid\n",
            "Loading Music File: ./drive/My Drive/Midi_music/hindi instrumental Song instrumental music Old instrumental Song 2019 old Song And Music88.mp3.mid\n",
            "Loading Music File: ./drive/My Drive/Midi_music/hindi instrumental Song instrumental music Old instrumental Song 2019 old Song And Music33.mp3.mid\n",
            "Loading Music File: ./drive/My Drive/Midi_music/hindi instrumental Song instrumental music Old instrumental Song 2019 old Song And Music175.mp3.mid\n",
            "Loading Music File: ./drive/My Drive/Midi_music/hindi instrumental Song instrumental music Old instrumental Song 2019 old Song And Music157.mp3.mid\n",
            "Loading Music File: ./drive/My Drive/Midi_music/hindi instrumental Song instrumental music Old instrumental Song 2019 old Song And Music128.mp3.mid\n",
            "Loading Music File: ./drive/My Drive/Midi_music/hindi instrumental Song instrumental music Old instrumental Song 2019 old Song And Music52.mp3.mid\n",
            "Loading Music File: ./drive/My Drive/Midi_music/hindi instrumental Song instrumental music Old instrumental Song 2019 old Song And Music166.mp3.mid\n",
            "Loading Music File: ./drive/My Drive/Midi_music/hindi instrumental Song instrumental music Old instrumental Song 2019 old Song And Music147.mp3.mid\n",
            "Loading Music File: ./drive/My Drive/Midi_music/hindi instrumental Song instrumental music Old instrumental Song 2019 old Song And Music42.mp3.mid\n",
            "Loading Music File: ./drive/My Drive/Midi_music/hindi instrumental Song instrumental music Old instrumental Song 2019 old Song And Music152.mp3.mid\n",
            "Loading Music File: ./drive/My Drive/Midi_music/hindi instrumental Song instrumental music Old instrumental Song 2019 old Song And Music49.mp3.mid\n",
            "Loading Music File: ./drive/My Drive/Midi_music/hindi instrumental Song instrumental music Old instrumental Song 2019 old Song And Music116.mp3.mid\n",
            "Loading Music File: ./drive/My Drive/Midi_music/hindi instrumental Song instrumental music Old instrumental Song 2019 old Song And Music122.mp3.mid\n",
            "Loading Music File: ./drive/My Drive/Midi_music/hindi instrumental Song instrumental music Old instrumental Song 2019 old Song And Music93.mp3.mid\n",
            "Loading Music File: ./drive/My Drive/Midi_music/hindi instrumental Song instrumental music Old instrumental Song 2019 old Song And Music9.mp3.mid\n",
            "Loading Music File: ./drive/My Drive/Midi_music/hindi instrumental Song instrumental music Old instrumental Song 2019 old Song And Music118.mp3.mid\n",
            "Loading Music File: ./drive/My Drive/Midi_music/hindi instrumental Song instrumental music Old instrumental Song 2019 old Song And Music46.mp3.mid\n",
            "Loading Music File: ./drive/My Drive/Midi_music/hindi instrumental Song instrumental music Old instrumental Song 2019 old Song And Music135.mp3.mid\n",
            "Loading Music File: ./drive/My Drive/Midi_music/hindi instrumental Song instrumental music Old instrumental Song 2019 old Song And Music16.mp3.mid\n",
            "Loading Music File: ./drive/My Drive/Midi_music/hindi instrumental Song instrumental music Old instrumental Song 2019 old Song And Music47.mp3.mid\n",
            "Loading Music File: ./drive/My Drive/Midi_music/hindi instrumental Song instrumental music Old instrumental Song 2019 old Song And Music3.mp3.mid\n",
            "Loading Music File: ./drive/My Drive/Midi_music/hindi instrumental Song instrumental music Old instrumental Song 2019 old Song And Music36.mp3.mid\n",
            "Loading Music File: ./drive/My Drive/Midi_music/hindi instrumental Song instrumental music Old instrumental Song 2019 old Song And Music123.mp3.mid\n",
            "Loading Music File: ./drive/My Drive/Midi_music/hindi instrumental Song instrumental music Old instrumental Song 2019 old Song And Music65.mp3.mid\n",
            "Loading Music File: ./drive/My Drive/Midi_music/hindi instrumental Song instrumental music Old instrumental Song 2019 old Song And Music94.mp3.mid\n",
            "Loading Music File: ./drive/My Drive/Midi_music/hindi instrumental Song instrumental music Old instrumental Song 2019 old Song And Music71.mp3.mid\n",
            "Loading Music File: ./drive/My Drive/Midi_music/hindi instrumental Song instrumental music Old instrumental Song 2019 old Song And Music69.mp3.mid\n",
            "Loading Music File: ./drive/My Drive/Midi_music/hindi instrumental Song instrumental music Old instrumental Song 2019 old Song And Music144.mp3.mid\n",
            "Loading Music File: ./drive/My Drive/Midi_music/hindi instrumental Song instrumental music Old instrumental Song 2019 old Song And Music103.mp3.mid\n",
            "Loading Music File: ./drive/My Drive/Midi_music/hindi instrumental Song instrumental music Old instrumental Song 2019 old Song And Music67.mp3.mid\n",
            "Loading Music File: ./drive/My Drive/Midi_music/hindi instrumental Song instrumental music Old instrumental Song 2019 old Song And Music28.mp3.mid\n",
            "Loading Music File: ./drive/My Drive/Midi_music/hindi instrumental Song instrumental music Old instrumental Song 2019 old Song And Music13.mp3.mid\n",
            "Loading Music File: ./drive/My Drive/Midi_music/hindi instrumental Song instrumental music Old instrumental Song 2019 old Song And Music89.mp3.mid\n",
            "Loading Music File: ./drive/My Drive/Midi_music/hindi instrumental Song instrumental music Old instrumental Song 2019 old Song And Music95.mp3.mid\n",
            "Loading Music File: ./drive/My Drive/Midi_music/hindi instrumental Song instrumental music Old instrumental Song 2019 old Song And Music61.mp3.mid\n",
            "Loading Music File: ./drive/My Drive/Midi_music/hindi instrumental Song instrumental music Old instrumental Song 2019 old Song And Music22.mp3.mid\n",
            "Loading Music File: ./drive/My Drive/Midi_music/hindi instrumental Song instrumental music Old instrumental Song 2019 old Song And Music115.mp3.mid\n",
            "Loading Music File: ./drive/My Drive/Midi_music/hindi instrumental Song instrumental music Old instrumental Song 2019 old Song And Music117.mp3.mid\n",
            "Loading Music File: ./drive/My Drive/Midi_music/hindi instrumental Song instrumental music Old instrumental Song 2019 old Song And Music21.mp3.mid\n",
            "Loading Music File: ./drive/My Drive/Midi_music/hindi instrumental Song instrumental music Old instrumental Song 2019 old Song And Music92.mp3.mid\n",
            "Loading Music File: ./drive/My Drive/Midi_music/hindi instrumental Song instrumental music Old instrumental Song 2019 old Song And Music76.mp3.mid\n",
            "Loading Music File: ./drive/My Drive/Midi_music/hindi instrumental Song instrumental music Old instrumental Song 2019 old Song And Music73.mp3.mid\n",
            "Loading Music File: ./drive/My Drive/Midi_music/hindi instrumental Song instrumental music Old instrumental Song 2019 old Song And Music58.mp3.mid\n",
            "Loading Music File: ./drive/My Drive/Midi_music/hindi instrumental Song instrumental music Old instrumental Song 2019 old Song And Music53.mp3.mid\n",
            "Loading Music File: ./drive/My Drive/Midi_music/hindi instrumental Song instrumental music Old instrumental Song 2019 old Song And Music45.mp3.mid\n",
            "Loading Music File: ./drive/My Drive/Midi_music/hindi instrumental Song instrumental music Old instrumental Song 2019 old Song And Music119.mp3.mid\n",
            "Loading Music File: ./drive/My Drive/Midi_music/hindi instrumental Song instrumental music Old instrumental Song 2019 old Song And Music105.mp3.mid\n",
            "Loading Music File: ./drive/My Drive/Midi_music/hindi instrumental Song instrumental music Old instrumental Song 2019 old Song And Music63.mp3.mid\n",
            "Loading Music File: ./drive/My Drive/Midi_music/hindi instrumental Song instrumental music Old instrumental Song 2019 old Song And Music143.mp3.mid\n",
            "Loading Music File: ./drive/My Drive/Midi_music/hindi instrumental Song instrumental music Old instrumental Song 2019 old Song And Music168.mp3.mid\n",
            "Loading Music File: ./drive/My Drive/Midi_music/hindi instrumental Song instrumental music Old instrumental Song 2019 old Song And Music155.mp3.mid\n",
            "Loading Music File: ./drive/My Drive/Midi_music/hindi instrumental Song instrumental music Old instrumental Song 2019 old Song And Music8.mp3.mid\n",
            "Loading Music File: ./drive/My Drive/Midi_music/hindi instrumental Song instrumental music Old instrumental Song 2019 old Song And Music127.mp3.mid\n",
            "Loading Music File: ./drive/My Drive/Midi_music/hindi instrumental Song instrumental music Old instrumental Song 2019 old Song And Music165.mp3.mid\n",
            "Loading Music File: ./drive/My Drive/Midi_music/hindi instrumental Song instrumental music Old instrumental Song 2019 old Song And Music29.mp3.mid\n",
            "Loading Music File: ./drive/My Drive/Midi_music/hindi instrumental Song instrumental music Old instrumental Song 2019 old Song And Music162.mp3.mid\n",
            "Loading Music File: ./drive/My Drive/Midi_music/hindi instrumental Song instrumental music Old instrumental Song 2019 old Song And Music170.mp3.mid\n",
            "Loading Music File: ./drive/My Drive/Midi_music/hindi instrumental Song instrumental music Old instrumental Song 2019 old Song And Music35.mp3.mid\n",
            "Loading Music File: ./drive/My Drive/Midi_music/hindi instrumental Song instrumental music Old instrumental Song 2019 old Song And Music15.mp3.mid\n",
            "Loading Music File: ./drive/My Drive/Midi_music/hindi instrumental Song instrumental music Old instrumental Song 2019 old Song And Music24.mp3.mid\n",
            "Loading Music File: ./drive/My Drive/Midi_music/hindi instrumental Song instrumental music Old instrumental Song 2019 old Song And Music172.mp3.mid\n",
            "Loading Music File: ./drive/My Drive/Midi_music/hindi instrumental Song instrumental music Old instrumental Song 2019 old Song And Music30.mp3.mid\n",
            "Loading Music File: ./drive/My Drive/Midi_music/hindi instrumental Song instrumental music Old instrumental Song 2019 old Song And Music160.mp3.mid\n",
            "Loading Music File: ./drive/My Drive/Midi_music/hindi instrumental Song instrumental music Old instrumental Song 2019 old Song And Music85.mp3.mid\n",
            "Loading Music File: ./drive/My Drive/Midi_music/hindi instrumental Song instrumental music Old instrumental Song 2019 old Song And Music6.mp3.mid\n",
            "Loading Music File: ./drive/My Drive/Midi_music/hindi instrumental Song instrumental music Old instrumental Song 2019 old Song And Music134.mp3.mid\n",
            "Loading Music File: ./drive/My Drive/Midi_music/hindi instrumental Song instrumental music Old instrumental Song 2019 old Song And Music101.mp3.mid\n",
            "Loading Music File: ./drive/My Drive/Midi_music/hindi instrumental Song instrumental music Old instrumental Song 2019 old Song And Music109.mp3.mid\n",
            "Loading Music File: ./drive/My Drive/Midi_music/hindi instrumental Song instrumental music Old instrumental Song 2019 old Song And Music151.mp3.mid\n",
            "Loading Music File: ./drive/My Drive/Midi_music/hindi instrumental Song instrumental music Old instrumental Song 2019 old Song And Music34.mp3.mid\n",
            "Loading Music File: ./drive/My Drive/Midi_music/hindi instrumental Song instrumental music Old instrumental Song 2019 old Song And Music25.mp3.mid\n",
            "Loading Music File: ./drive/My Drive/Midi_music/hindi instrumental Song instrumental music Old instrumental Song 2019 old Song And Music77.mp3.mid\n",
            "Loading Music File: ./drive/My Drive/Midi_music/hindi instrumental Song instrumental music Old instrumental Song 2019 old Song And Music80.mp3.mid\n",
            "Loading Music File: ./drive/My Drive/Midi_music/hindi instrumental Song instrumental music Old instrumental Song 2019 old Song And Music56.mp3.mid\n",
            "Loading Music File: ./drive/My Drive/Midi_music/hindi instrumental Song instrumental music Old instrumental Song 2019 old Song And Music154.mp3.mid\n",
            "Loading Music File: ./drive/My Drive/Midi_music/hindi instrumental Song instrumental music Old instrumental Song 2019 old Song And Music10.mp3.mid\n",
            "Loading Music File: ./drive/My Drive/Midi_music/hindi instrumental Song instrumental music Old instrumental Song 2019 old Song And Music98.mp3.mid\n",
            "Loading Music File: ./drive/My Drive/Midi_music/hindi instrumental Song instrumental music Old instrumental Song 2019 old Song And Music68.mp3.mid\n",
            "Loading Music File: ./drive/My Drive/Midi_music/hindi instrumental Song instrumental music Old instrumental Song 2019 old Song And Music158.mp3.mid\n",
            "Loading Music File: ./drive/My Drive/Midi_music/hindi instrumental Song instrumental music Old instrumental Song 2019 old Song And Music7.mp3.mid\n",
            "Loading Music File: ./drive/My Drive/Midi_music/hindi instrumental Song instrumental music Old instrumental Song 2019 old Song And Music131.mp3.mid\n",
            "Loading Music File: ./drive/My Drive/Midi_music/hindi instrumental Song instrumental music Old instrumental Song 2019 old Song And Music59.mp3.mid\n",
            "Loading Music File: ./drive/My Drive/Midi_music/hindi instrumental Song instrumental music Old instrumental Song 2019 old Song And Music133.mp3.mid\n",
            "Loading Music File: ./drive/My Drive/Midi_music/hindi instrumental Song instrumental music Old instrumental Song 2019 old Song And Music99.mp3.mid\n",
            "Loading Music File: ./drive/My Drive/Midi_music/hindi instrumental Song instrumental music Old instrumental Song 2019 old Song And Music64.mp3.mid\n",
            "Loading Music File: ./drive/My Drive/Midi_music/hindi instrumental Song instrumental music Old instrumental Song 2019 old Song And Music78.mp3.mid\n",
            "Loading Music File: ./drive/My Drive/Midi_music/hindi instrumental Song instrumental music Old instrumental Song 2019 old Song And Music62.mp3.mid\n",
            "Loading Music File: ./drive/My Drive/Midi_music/hindi instrumental Song instrumental music Old instrumental Song 2019 old Song And Music32.mp3.mid\n",
            "Loading Music File: ./drive/My Drive/Midi_music/hindi instrumental Song instrumental music Old instrumental Song 2019 old Song And Music111.mp3.mid\n",
            "Loading Music File: ./drive/My Drive/Midi_music/hindi instrumental Song instrumental music Old instrumental Song 2019 old Song And Music43.mp3.mid\n",
            "Loading Music File: ./drive/My Drive/Midi_music/hindi instrumental Song instrumental music Old instrumental Song 2019 old Song And Music44.mp3.mid\n",
            "Loading Music File: ./drive/My Drive/Midi_music/hindi instrumental Song instrumental music Old instrumental Song 2019 old Song And Music173.mp3.mid\n",
            "Loading Music File: ./drive/My Drive/Midi_music/hindi instrumental Song instrumental music Old instrumental Song 2019 old Song And Music79.mp3.mid\n",
            "Loading Music File: ./drive/My Drive/Midi_music/hindi instrumental Song instrumental music Old instrumental Song 2019 old Song And Music40.mp3.mid\n",
            "Loading Music File: ./drive/My Drive/Midi_music/hindi instrumental Song instrumental music Old instrumental Song 2019 old Song And Music75.mp3.mid\n",
            "Loading Music File: ./drive/My Drive/Midi_music/hindi instrumental Song instrumental music Old instrumental Song 2019 old Song And Music20.mp3.mid\n",
            "Loading Music File: ./drive/My Drive/Midi_music/hindi instrumental Song instrumental music Old instrumental Song 2019 old Song And Music66.mp3.mid\n",
            "Loading Music File: ./drive/My Drive/Midi_music/hindi instrumental Song instrumental music Old instrumental Song 2019 old Song And Music83.mp3.mid\n",
            "Loading Music File: ./drive/My Drive/Midi_music/hindi instrumental Song instrumental music Old instrumental Song 2019 old Song And Music124.mp3.mid\n",
            "Loading Music File: ./drive/My Drive/Midi_music/hindi instrumental Song instrumental music Old instrumental Song 2019 old Song And Music141.mp3.mid\n",
            "Loading Music File: ./drive/My Drive/Midi_music/hindi instrumental Song instrumental music Old instrumental Song 2019 old Song And Music11.mp3.mid\n",
            "Loading Music File: ./drive/My Drive/Midi_music/hindi instrumental Song instrumental music Old instrumental Song 2019 old Song And Music107.mp3.mid\n",
            "Loading Music File: ./drive/My Drive/Midi_music/hindi instrumental Song instrumental music Old instrumental Song 2019 old Song And Music57.mp3.mid\n",
            "Loading Music File: ./drive/My Drive/Midi_music/hindi instrumental Song instrumental music Old instrumental Song 2019 old Song And Music39.mp3.mid\n",
            "Loading Music File: ./drive/My Drive/Midi_music/hindi instrumental Song instrumental music Old instrumental Song 2019 old Song And Music70.mp3.mid\n",
            "Loading Music File: ./drive/My Drive/Midi_music/hindi instrumental Song instrumental music Old instrumental Song 2019 old Song And Music126.mp3.mid\n",
            "Loading Music File: ./drive/My Drive/Midi_music/hindi instrumental Song instrumental music Old instrumental Song 2019 old Song And Music132.mp3.mid\n",
            "Loading Music File: ./drive/My Drive/Midi_music/hindi instrumental Song instrumental music Old instrumental Song 2019 old Song And Music125.mp3.mid\n",
            "Loading Music File: ./drive/My Drive/Midi_music/hindi instrumental Song instrumental music Old instrumental Song 2019 old Song And Music97.mp3.mid\n",
            "Loading Music File: ./drive/My Drive/Midi_music/hindi instrumental Song instrumental music Old instrumental Song 2019 old Song And Music86.mp3.mid\n",
            "Loading Music File: ./drive/My Drive/Midi_music/hindi instrumental Song instrumental music Old instrumental Song 2019 old Song And Music23.mp3.mid\n",
            "Loading Music File: ./drive/My Drive/Midi_music/hindi instrumental Song instrumental music Old instrumental Song 2019 old Song And Music1.mp3.mid\n",
            "Loading Music File: ./drive/My Drive/Midi_music/hindi instrumental Song instrumental music Old instrumental Song 2019 old Song And Music139.mp3.mid\n",
            "Loading Music File: ./drive/My Drive/Midi_music/hindi instrumental Song instrumental music Old instrumental Song 2019 old Song And Music148.mp3.mid\n",
            "Loading Music File: ./drive/My Drive/Midi_music/hindi instrumental Song instrumental music Old instrumental Song 2019 old Song And Music104.mp3.mid\n",
            "Loading Music File: ./drive/My Drive/Midi_music/hindi instrumental Song instrumental music Old instrumental Song 2019 old Song And Music54.mp3.mid\n",
            "Loading Music File: ./drive/My Drive/Midi_music/hindi instrumental Song instrumental music Old instrumental Song 2019 old Song And Music12.mp3.mid\n",
            "Loading Music File: ./drive/My Drive/Midi_music/hindi instrumental Song instrumental music Old instrumental Song 2019 old Song And Music50.mp3.mid\n",
            "Loading Music File: ./drive/My Drive/Midi_music/hindi instrumental Song instrumental music Old instrumental Song 2019 old Song And Music74.mp3.mid\n",
            "Loading Music File: ./drive/My Drive/Midi_music/hindi instrumental Song instrumental music Old instrumental Song 2019 old Song And Music106.mp3.mid\n",
            "Loading Music File: ./drive/My Drive/Midi_music/hindi instrumental Song instrumental music Old instrumental Song 2019 old Song And Music161.mp3.mid\n",
            "Loading Music File: ./drive/My Drive/Midi_music/hindi instrumental Song instrumental music Old instrumental Song 2019 old Song And Music164.mp3.mid\n",
            "Loading Music File: ./drive/My Drive/Midi_music/hindi instrumental Song instrumental music Old instrumental Song 2019 old Song And Music26.mp3.mid\n",
            "Loading Music File: ./drive/My Drive/Midi_music/hindi instrumental Song instrumental music Old instrumental Song 2019 old Song And Music121.mp3.mid\n",
            "Loading Music File: ./drive/My Drive/Midi_music/hindi instrumental Song instrumental music Old instrumental Song 2019 old Song And Music41.mp3.mid\n",
            "Loading Music File: ./drive/My Drive/Midi_music/hindi instrumental Song instrumental music Old instrumental Song 2019 old Song And Music60.mp3.mid\n",
            "Loading Music File: ./drive/My Drive/Midi_music/hindi instrumental Song instrumental music Old instrumental Song 2019 old Song And Music27.mp3.mid\n",
            "Loading Music File: ./drive/My Drive/Midi_music/hindi instrumental Song instrumental music Old instrumental Song 2019 old Song And Music159.mp3.mid\n",
            "Loading Music File: ./drive/My Drive/Midi_music/hindi instrumental Song instrumental music Old instrumental Song 2019 old Song And Music167.mp3.mid\n",
            "Loading Music File: ./drive/My Drive/Midi_music/hindi instrumental Song instrumental music Old instrumental Song 2019 old Song And Music137.mp3.mid\n",
            "Loading Music File: ./drive/My Drive/Midi_music/hindi instrumental Song instrumental music Old instrumental Song 2019 old Song And Music96.mp3.mid\n",
            "Loading Music File: ./drive/My Drive/Midi_music/hindi instrumental Song instrumental music Old instrumental Song 2019 old Song And Music108.mp3.mid\n",
            "Loading Music File: ./drive/My Drive/Midi_music/hindi instrumental Song instrumental music Old instrumental Song 2019 old Song And Music142.mp3.mid\n",
            "Loading Music File: ./drive/My Drive/Midi_music/hindi instrumental Song instrumental music Old instrumental Song 2019 old Song And Music156.mp3.mid\n",
            "Loading Music File: ./drive/My Drive/Midi_music/hindi instrumental Song instrumental music Old instrumental Song 2019 old Song And Music17.mp3.mid\n",
            "Loading Music File: ./drive/My Drive/Midi_music/hindi instrumental Song instrumental music Old instrumental Song 2019 old Song And Music130.mp3.mid\n",
            "Loading Music File: ./drive/My Drive/Midi_music/hindi instrumental Song instrumental music Old instrumental Song 2019 old Song And Music90.mp3.mid\n",
            "Loading Music File: ./drive/My Drive/Midi_music/hindi instrumental Song instrumental music Old instrumental Song 2019 old Song And Music14.mp3.mid\n",
            "Loading Music File: ./drive/My Drive/Midi_music/hindi instrumental Song instrumental music Old instrumental Song 2019 old Song And Music171.mp3.mid\n",
            "Loading Music File: ./drive/My Drive/Midi_music/hindi instrumental Song instrumental music Old instrumental Song 2019 old Song And Music84.mp3.mid\n",
            "Loading Music File: ./drive/My Drive/Midi_music/hindi instrumental Song instrumental music Old instrumental Song 2019 old Song And Music81.mp3.mid\n",
            "Loading Music File: ./drive/My Drive/Midi_music/hindi instrumental Song instrumental music Old instrumental Song 2019 old Song And Music4.mp3.mid\n",
            "Loading Music File: ./drive/My Drive/Midi_music/hindi instrumental Song instrumental music Old instrumental Song 2019 old Song And Music146.mp3.mid\n",
            "Loading Music File: ./drive/My Drive/Midi_music/hindi instrumental Song instrumental music Old instrumental Song 2019 old Song And Music55.mp3.mid\n",
            "Loading Music File: ./drive/My Drive/Midi_music/hindi instrumental Song instrumental music Old instrumental Song 2019 old Song And Music169.mp3.mid\n",
            "Loading Music File: ./drive/My Drive/Midi_music/hindi instrumental Song instrumental music Old instrumental Song 2019 old Song And Music120.mp3.mid\n",
            "Loading Music File: ./drive/My Drive/Midi_music/hindi instrumental Song instrumental music Old instrumental Song 2019 old Song And Music113.mp3.mid\n",
            "Loading Music File: ./drive/My Drive/Midi_music/hindi instrumental Song instrumental music Old instrumental Song 2019 old Song And Music149.mp3.mid\n",
            "Loading Music File: ./drive/My Drive/Midi_music/hindi instrumental Song instrumental music Old instrumental Song 2019 old Song And Music150.mp3.mid\n",
            "Loading Music File: ./drive/My Drive/Midi_music/hindi instrumental Song instrumental music Old instrumental Song 2019 old Song And Music100.mp3.mid\n",
            "Loading Music File: ./drive/My Drive/Midi_music/hindi instrumental Song instrumental music Old instrumental Song 2019 old Song And Music31.mp3.mid\n",
            "Loading Music File: ./drive/My Drive/Midi_music/hindi instrumental Song instrumental music Old instrumental Song 2019 old Song And Music110.mp3.mid\n",
            "Loading Music File: ./drive/My Drive/Midi_music/hindi instrumental Song instrumental music Old instrumental Song 2019 old Song And Music174.mp3.mid\n",
            "Loading Music File: ./drive/My Drive/Midi_music/hindi instrumental Song instrumental music Old instrumental Song 2019 old Song And Music38.mp3.mid\n",
            "Loading Music File: ./drive/My Drive/Midi_music/hindi instrumental Song instrumental music Old instrumental Song 2019 old Song And Music37.mp3.mid\n"
          ],
          "name": "stdout"
        }
      ]
    },
    {
      "cell_type": "code",
      "metadata": {
        "id": "9fYyKPNj0wm7",
        "colab_type": "code",
        "colab": {
          "base_uri": "https://localhost:8080/",
          "height": 33
        },
        "outputId": "344ba21e-d19e-42c2-cacf-be650300ef90"
      },
      "source": [
        "#converting 2D array into 1D array\n",
        "notes_ = [element for note_ in notes_array for element in note_]\n",
        "\n",
        "#No. of unique notes\n",
        "unique_notes = list(set(notes_))\n",
        "print(len(unique_notes))"
      ],
      "execution_count": 4,
      "outputs": [
        {
          "output_type": "stream",
          "text": [
            "1920\n"
          ],
          "name": "stdout"
        }
      ]
    },
    {
      "cell_type": "code",
      "metadata": {
        "id": "Qk-v4uR903Fu",
        "colab_type": "code",
        "colab": {
          "base_uri": "https://localhost:8080/",
          "height": 420
        },
        "outputId": "1157cc8d-6759-4bfa-f3fa-308265ded014"
      },
      "source": [
        "#importing library\n",
        "from collections import Counter\n",
        "\n",
        "#computing frequency of each note\n",
        "freq = dict(Counter(notes_))\n",
        "\n",
        "#library for visualiation\n",
        "import matplotlib.pyplot as plt\n",
        "\n",
        "#consider only the frequencies\n",
        "no=[count for _,count in freq.items()]\n",
        "\n",
        "#set the figure size\n",
        "plt.figure(figsize=(5,5))\n",
        "\n",
        "#plot\n",
        "plt.hist(no)"
      ],
      "execution_count": 5,
      "outputs": [
        {
          "output_type": "execute_result",
          "data": {
            "text/plain": [
              "(array([1779.,   54.,   27.,   14.,   22.,    6.,    6.,    3.,    5.,\n",
              "           4.]),\n",
              " array([1.0000e+00, 2.9990e+02, 5.9880e+02, 8.9770e+02, 1.1966e+03,\n",
              "        1.4955e+03, 1.7944e+03, 2.0933e+03, 2.3922e+03, 2.6911e+03,\n",
              "        2.9900e+03]),\n",
              " <a list of 10 Patch objects>)"
            ]
          },
          "metadata": {
            "tags": []
          },
          "execution_count": 5
        },
        {
          "output_type": "display_data",
          "data": {
            "image/png": "[encoded data removed]",
            "text/plain": [
              "<Figure size 360x360 with 1 Axes>"
            ]
          },
          "metadata": {
            "tags": [],
            "image/png": {
              "width": 327,
              "height": 302
            },
            "needs_background": "light"
          }
        }
      ]
    },
    {
      "cell_type": "code",
      "metadata": {
        "id": "bHgyAW7l03Q5",
        "colab_type": "code",
        "colab": {
          "base_uri": "https://localhost:8080/",
          "height": 33
        },
        "outputId": "17b678f8-2727-47a7-f129-38e0186f91bd"
      },
      "source": [
        "frequent_notes = [note_ for note_, count in freq.items() if count>=50]\n",
        "print(len(frequent_notes))"
      ],
      "execution_count": 6,
      "outputs": [
        {
          "output_type": "stream",
          "text": [
            "248\n"
          ],
          "name": "stdout"
        }
      ]
    },
    {
      "cell_type": "code",
      "metadata": {
        "id": "4Y6NeeuD03Sq",
        "colab_type": "code",
        "colab": {}
      },
      "source": [
        "new_music=[]\n",
        "\n",
        "for notes in notes_array:\n",
        "    temp=[]\n",
        "    for note_ in notes:\n",
        "        if note_ in frequent_notes:\n",
        "            temp.append(note_)            \n",
        "    new_music.append(temp)\n",
        "    \n",
        "new_music = np.array(new_music)"
      ],
      "execution_count": 7,
      "outputs": []
    },
    {
      "cell_type": "code",
      "metadata": {
        "id": "ernCPtLw03Wn",
        "colab_type": "code",
        "colab": {}
      },
      "source": [
        "no_of_timesteps = 32\n",
        "x = []\n",
        "y = []\n",
        "\n",
        "for note_ in new_music:\n",
        "    for i in range(0, len(note_) - no_of_timesteps, 1):\n",
        "        \n",
        "        #preparing input and output sequences\n",
        "        input_ = note_[i:i + no_of_timesteps]\n",
        "        output = note_[i + no_of_timesteps]\n",
        "        \n",
        "        x.append(input_)\n",
        "        y.append(output)\n",
        "        \n",
        "x=np.array(x)\n",
        "y=np.array(y)"
      ],
      "execution_count": 8,
      "outputs": []
    },
    {
      "cell_type": "code",
      "metadata": {
        "id": "BB1lPoJC03Yk",
        "colab_type": "code",
        "colab": {}
      },
      "source": [
        "unique_x = list(set(x.ravel()))\n",
        "x_note_to_int = dict((note_, number) for number, note_ in enumerate(unique_x))"
      ],
      "execution_count": 9,
      "outputs": []
    },
    {
      "cell_type": "code",
      "metadata": {
        "id": "2p01-TR01Gb5",
        "colab_type": "code",
        "colab": {}
      },
      "source": [
        "#preparing input sequences\n",
        "x_seq=[]\n",
        "for i in x:\n",
        "    temp=[]\n",
        "    for j in i:\n",
        "        #assigning unique integer to every note\n",
        "        temp.append(x_note_to_int[j])\n",
        "    x_seq.append(temp)\n",
        "    \n",
        "x_seq = np.array(x_seq)"
      ],
      "execution_count": 10,
      "outputs": []
    },
    {
      "cell_type": "code",
      "metadata": {
        "id": "nKZENMaJ1Gd9",
        "colab_type": "code",
        "colab": {}
      },
      "source": [
        "unique_y = list(set(y))\n",
        "y_note_to_int = dict((note_, number) for number, note_ in enumerate(unique_y)) \n",
        "y_seq=np.array([y_note_to_int[i] for i in y])"
      ],
      "execution_count": 11,
      "outputs": []
    },
    {
      "cell_type": "code",
      "metadata": {
        "id": "TxwYp7aL1Gi5",
        "colab_type": "code",
        "colab": {}
      },
      "source": [
        "from sklearn.model_selection import train_test_split\n",
        "x_tr, x_val, y_tr, y_val = train_test_split(x_seq,y_seq,test_size=0.2,random_state=0)"
      ],
      "execution_count": 12,
      "outputs": []
    },
    {
      "cell_type": "code",
      "metadata": {
        "id": "jFBv4ZjD1GoH",
        "colab_type": "code",
        "colab": {}
      },
      "source": [
        "def lstm():\n",
        "  model = Sequential()\n",
        "  model.add(LSTM(128,return_sequences=True))\n",
        "  model.add(LSTM(128))\n",
        "  model.add(Dense(256))\n",
        "  model.add(Activation('relu'))\n",
        "  model.add(Dense(n_vocab))\n",
        "  model.add(Activation('softmax'))\n",
        "  model.compile(loss='sparse_categorical_crossentropy', optimizer='adam')\n",
        "  return model"
      ],
      "execution_count": 14,
      "outputs": []
    },
    {
      "cell_type": "code",
      "metadata": {
        "id": "tHjQ5pgM1G0X",
        "colab_type": "code",
        "colab": {
          "base_uri": "https://localhost:8080/",
          "height": 602
        },
        "outputId": "2842a32d-8e4e-46f2-918b-ef28b09b3747"
      },
      "source": [
        "from keras.layers import *\n",
        "from keras.models import *\n",
        "from keras.callbacks import *\n",
        "import keras.backend as K\n",
        "\n",
        "K.clear_session()\n",
        "model = Sequential()\n",
        "    \n",
        "#embedding layer\n",
        "model.add(Embedding(len(unique_x), 100, input_length=32,trainable=True)) \n",
        "\n",
        "model.add(Conv1D(64,3, padding='causal',activation='relu'))\n",
        "model.add(Dropout(0.2))\n",
        "model.add(MaxPool1D(2))\n",
        "    \n",
        "model.add(Conv1D(128,3,activation='relu',dilation_rate=2,padding='causal'))\n",
        "model.add(Dropout(0.2))\n",
        "model.add(MaxPool1D(2))\n",
        "\n",
        "model.add(Conv1D(256,3,activation='relu',dilation_rate=4,padding='causal'))\n",
        "model.add(Dropout(0.2))\n",
        "model.add(MaxPool1D(2))\n",
        "          \n",
        "#model.add(Conv1D(256,5,activation='relu'))    \n",
        "model.add(GlobalMaxPool1D())\n",
        "    \n",
        "model.add(Dense(256, activation='relu'))\n",
        "model.add(Dense(len(unique_y), activation='softmax'))\n",
        "    \n",
        "model.compile(loss='sparse_categorical_crossentropy', optimizer='adam')\n",
        "\n",
        "model.summary()"
      ],
      "execution_count": 15,
      "outputs": [
        {
          "output_type": "stream",
          "text": [
            "Using TensorFlow backend.\n"
          ],
          "name": "stderr"
        },
        {
          "output_type": "stream",
          "text": [
            "Model: \"sequential_1\"\n",
            "_________________________________________________________________\n",
            "Layer (type)                 Output Shape              Param #   \n",
            "=================================================================\n",
            "embedding_1 (Embedding)      (None, 32, 100)           24800     \n",
            "_________________________________________________________________\n",
            "conv1d_1 (Conv1D)            (None, 32, 64)            19264     \n",
            "_________________________________________________________________\n",
            "dropout_1 (Dropout)          (None, 32, 64)            0         \n",
            "_________________________________________________________________\n",
            "max_pooling1d_1 (MaxPooling1 (None, 16, 64)            0         \n",
            "_________________________________________________________________\n",
            "conv1d_2 (Conv1D)            (None, 16, 128)           24704     \n",
            "_________________________________________________________________\n",
            "dropout_2 (Dropout)          (None, 16, 128)           0         \n",
            "_________________________________________________________________\n",
            "max_pooling1d_2 (MaxPooling1 (None, 8, 128)            0         \n",
            "_________________________________________________________________\n",
            "conv1d_3 (Conv1D)            (None, 8, 256)            98560     \n",
            "_________________________________________________________________\n",
            "dropout_3 (Dropout)          (None, 8, 256)            0         \n",
            "_________________________________________________________________\n",
            "max_pooling1d_3 (MaxPooling1 (None, 4, 256)            0         \n",
            "_________________________________________________________________\n",
            "global_max_pooling1d_1 (Glob (None, 256)               0         \n",
            "_________________________________________________________________\n",
            "dense_1 (Dense)              (None, 256)               65792     \n",
            "_________________________________________________________________\n",
            "dense_2 (Dense)              (None, 248)               63736     \n",
            "=================================================================\n",
            "Total params: 296,856\n",
            "Trainable params: 296,856\n",
            "Non-trainable params: 0\n",
            "_________________________________________________________________\n"
          ],
          "name": "stdout"
        }
      ]
    },
    {
      "cell_type": "code",
      "metadata": {
        "id": "Jp124ELh1G6O",
        "colab_type": "code",
        "colab": {}
      },
      "source": [
        "mc=ModelCheckpoint('drive/My Drive/best_music_model.h5', monitor='val_loss', mode='min', save_best_only=True,verbose=1)"
      ],
      "execution_count": 16,
      "outputs": []
    },
    {
      "cell_type": "code",
      "metadata": {
        "id": "zyXgNdyU1G_y",
        "colab_type": "code",
        "colab": {
          "base_uri": "https://localhost:8080/",
          "height": 1000
        },
        "outputId": "ae2e661c-a92d-453c-a097-2cf05ba44792"
      },
      "source": [
        "history = model.fit(np.array(x_tr),np.array(y_tr),batch_size=128,epochs=50, validation_data=(np.array(x_val),np.array(y_val)),verbose=1, callbacks=[mc])"
      ],
      "execution_count": 17,
      "outputs": [
        {
          "output_type": "stream",
          "text": [
            "/usr/local/lib/python3.6/dist-packages/tensorflow/python/framework/indexed_slices.py:434: UserWarning: Converting sparse IndexedSlices to a dense Tensor of unknown shape. This may consume a large amount of memory.\n",
            "  \"Converting sparse IndexedSlices to a dense Tensor of unknown shape. \"\n"
          ],
          "name": "stderr"
        },
        {
          "output_type": "stream",
          "text": [
            "Train on 115477 samples, validate on 28870 samples\n",
            "Epoch 1/50\n",
            "115477/115477 [==============================] - 74s 638us/step - loss: 4.8554 - val_loss: 4.7940\n",
            "\n",
            "Epoch 00001: val_loss improved from inf to 4.79395, saving model to drive/My Drive/best_music_model.h5\n",
            "Epoch 2/50\n",
            "115477/115477 [==============================] - 73s 630us/step - loss: 4.6662 - val_loss: 4.6845\n",
            "\n",
            "Epoch 00002: val_loss improved from 4.79395 to 4.68447, saving model to drive/My Drive/best_music_model.h5\n",
            "Epoch 3/50\n",
            "115477/115477 [==============================] - 73s 631us/step - loss: 4.5936 - val_loss: 4.6244\n",
            "\n",
            "Epoch 00003: val_loss improved from 4.68447 to 4.62444, saving model to drive/My Drive/best_music_model.h5\n",
            "Epoch 4/50\n",
            "115477/115477 [==============================] - 73s 633us/step - loss: 4.5454 - val_loss: 4.6181\n",
            "\n",
            "Epoch 00004: val_loss improved from 4.62444 to 4.61808, saving model to drive/My Drive/best_music_model.h5\n",
            "Epoch 5/50\n",
            "115477/115477 [==============================] - 74s 639us/step - loss: 4.5068 - val_loss: 4.5795\n",
            "\n",
            "Epoch 00005: val_loss improved from 4.61808 to 4.57947, saving model to drive/My Drive/best_music_model.h5\n",
            "Epoch 6/50\n",
            "115477/115477 [==============================] - 73s 636us/step - loss: 4.4720 - val_loss: 4.5743\n",
            "\n",
            "Epoch 00006: val_loss improved from 4.57947 to 4.57428, saving model to drive/My Drive/best_music_model.h5\n",
            "Epoch 7/50\n",
            "115477/115477 [==============================] - 73s 630us/step - loss: 4.4427 - val_loss: 4.5327\n",
            "\n",
            "Epoch 00007: val_loss improved from 4.57428 to 4.53270, saving model to drive/My Drive/best_music_model.h5\n",
            "Epoch 8/50\n",
            "115477/115477 [==============================] - 73s 632us/step - loss: 4.4171 - val_loss: 4.5186\n",
            "\n",
            "Epoch 00008: val_loss improved from 4.53270 to 4.51863, saving model to drive/My Drive/best_music_model.h5\n",
            "Epoch 9/50\n",
            "115477/115477 [==============================] - 73s 630us/step - loss: 4.3946 - val_loss: 4.5154\n",
            "\n",
            "Epoch 00009: val_loss improved from 4.51863 to 4.51540, saving model to drive/My Drive/best_music_model.h5\n",
            "Epoch 10/50\n",
            "115477/115477 [==============================] - 72s 627us/step - loss: 4.3723 - val_loss: 4.5047\n",
            "\n",
            "Epoch 00010: val_loss improved from 4.51540 to 4.50470, saving model to drive/My Drive/best_music_model.h5\n",
            "Epoch 11/50\n",
            "115477/115477 [==============================] - 72s 625us/step - loss: 4.3537 - val_loss: 4.5070\n",
            "\n",
            "Epoch 00011: val_loss did not improve from 4.50470\n",
            "Epoch 12/50\n",
            "115477/115477 [==============================] - 72s 622us/step - loss: 4.3370 - val_loss: 4.4993\n",
            "\n",
            "Epoch 00012: val_loss improved from 4.50470 to 4.49929, saving model to drive/My Drive/best_music_model.h5\n",
            "Epoch 13/50\n",
            "115477/115477 [==============================] - 72s 624us/step - loss: 4.3186 - val_loss: 4.4925\n",
            "\n",
            "Epoch 00013: val_loss improved from 4.49929 to 4.49245, saving model to drive/My Drive/best_music_model.h5\n",
            "Epoch 14/50\n",
            "115477/115477 [==============================] - 72s 628us/step - loss: 4.3041 - val_loss: 4.4971\n",
            "\n",
            "Epoch 00014: val_loss did not improve from 4.49245\n",
            "Epoch 15/50\n",
            "115477/115477 [==============================] - 72s 627us/step - loss: 4.2909 - val_loss: 4.4880\n",
            "\n",
            "Epoch 00015: val_loss improved from 4.49245 to 4.48802, saving model to drive/My Drive/best_music_model.h5\n",
            "Epoch 16/50\n",
            "115477/115477 [==============================] - 72s 623us/step - loss: 4.2758 - val_loss: 4.4912\n",
            "\n",
            "Epoch 00016: val_loss did not improve from 4.48802\n",
            "Epoch 17/50\n",
            "115477/115477 [==============================] - 72s 624us/step - loss: 4.2617 - val_loss: 4.4912\n",
            "\n",
            "Epoch 00017: val_loss did not improve from 4.48802\n",
            "Epoch 18/50\n",
            "115477/115477 [==============================] - 73s 631us/step - loss: 4.2498 - val_loss: 4.4750\n",
            "\n",
            "Epoch 00018: val_loss improved from 4.48802 to 4.47502, saving model to drive/My Drive/best_music_model.h5\n",
            "Epoch 19/50\n",
            "115477/115477 [==============================] - 73s 628us/step - loss: 4.2424 - val_loss: 4.4754\n",
            "\n",
            "Epoch 00019: val_loss did not improve from 4.47502\n",
            "Epoch 20/50\n",
            "115477/115477 [==============================] - 72s 627us/step - loss: 4.2303 - val_loss: 4.4766\n",
            "\n",
            "Epoch 00020: val_loss did not improve from 4.47502\n",
            "Epoch 21/50\n",
            "115477/115477 [==============================] - 72s 625us/step - loss: 4.2231 - val_loss: 4.4866\n",
            "\n",
            "Epoch 00021: val_loss did not improve from 4.47502\n",
            "Epoch 22/50\n",
            "115477/115477 [==============================] - 73s 630us/step - loss: 4.2127 - val_loss: 4.4739\n",
            "\n",
            "Epoch 00022: val_loss improved from 4.47502 to 4.47394, saving model to drive/My Drive/best_music_model.h5\n",
            "Epoch 23/50\n",
            "115477/115477 [==============================] - 73s 629us/step - loss: 4.2022 - val_loss: 4.4814\n",
            "\n",
            "Epoch 00023: val_loss did not improve from 4.47394\n",
            "Epoch 24/50\n",
            "115477/115477 [==============================] - 73s 629us/step - loss: 4.1983 - val_loss: 4.4788\n",
            "\n",
            "Epoch 00024: val_loss did not improve from 4.47394\n",
            "Epoch 25/50\n",
            "115477/115477 [==============================] - 73s 629us/step - loss: 4.1863 - val_loss: 4.4810\n",
            "\n",
            "Epoch 00025: val_loss did not improve from 4.47394\n",
            "Epoch 26/50\n",
            "115477/115477 [==============================] - 73s 632us/step - loss: 4.1818 - val_loss: 4.4828\n",
            "\n",
            "Epoch 00026: val_loss did not improve from 4.47394\n",
            "Epoch 27/50\n",
            "115477/115477 [==============================] - 74s 638us/step - loss: 4.1761 - val_loss: 4.4756\n",
            "\n",
            "Epoch 00027: val_loss did not improve from 4.47394\n",
            "Epoch 28/50\n",
            "115477/115477 [==============================] - 73s 628us/step - loss: 4.1674 - val_loss: 4.4864\n",
            "\n",
            "Epoch 00028: val_loss did not improve from 4.47394\n",
            "Epoch 29/50\n",
            "115477/115477 [==============================] - 73s 630us/step - loss: 4.1602 - val_loss: 4.4832\n",
            "\n",
            "Epoch 00029: val_loss did not improve from 4.47394\n",
            "Epoch 30/50\n",
            "115477/115477 [==============================] - 73s 632us/step - loss: 4.1559 - val_loss: 4.4820\n",
            "\n",
            "Epoch 00030: val_loss did not improve from 4.47394\n",
            "Epoch 31/50\n",
            "115477/115477 [==============================] - 73s 633us/step - loss: 4.1454 - val_loss: 4.4849\n",
            "\n",
            "Epoch 00031: val_loss did not improve from 4.47394\n",
            "Epoch 32/50\n",
            "115477/115477 [==============================] - 73s 631us/step - loss: 4.1406 - val_loss: 4.4890\n",
            "\n",
            "Epoch 00032: val_loss did not improve from 4.47394\n",
            "Epoch 33/50\n",
            "115477/115477 [==============================] - 73s 632us/step - loss: 4.1379 - val_loss: 4.4837\n",
            "\n",
            "Epoch 00033: val_loss did not improve from 4.47394\n",
            "Epoch 34/50\n",
            "115477/115477 [==============================] - 73s 630us/step - loss: 4.1307 - val_loss: 4.4865\n",
            "\n",
            "Epoch 00034: val_loss did not improve from 4.47394\n",
            "Epoch 35/50\n",
            "115477/115477 [==============================] - 74s 638us/step - loss: 4.1244 - val_loss: 4.4896\n",
            "\n",
            "Epoch 00035: val_loss did not improve from 4.47394\n",
            "Epoch 36/50\n",
            "115477/115477 [==============================] - 73s 636us/step - loss: 4.1201 - val_loss: 4.4831\n",
            "\n",
            "Epoch 00036: val_loss did not improve from 4.47394\n",
            "Epoch 37/50\n",
            "115477/115477 [==============================] - 73s 633us/step - loss: 4.1173 - val_loss: 4.4961\n",
            "\n",
            "Epoch 00037: val_loss did not improve from 4.47394\n",
            "Epoch 38/50\n",
            "115477/115477 [==============================] - 73s 635us/step - loss: 4.1124 - val_loss: 4.4921\n",
            "\n",
            "Epoch 00038: val_loss did not improve from 4.47394\n",
            "Epoch 39/50\n",
            "115477/115477 [==============================] - 73s 635us/step - loss: 4.1067 - val_loss: 4.4938\n",
            "\n",
            "Epoch 00039: val_loss did not improve from 4.47394\n",
            "Epoch 40/50\n",
            "115477/115477 [==============================] - 74s 639us/step - loss: 4.1020 - val_loss: 4.4935\n",
            "\n",
            "Epoch 00040: val_loss did not improve from 4.47394\n",
            "Epoch 41/50\n",
            "115477/115477 [==============================] - 73s 630us/step - loss: 4.0968 - val_loss: 4.4890\n",
            "\n",
            "Epoch 00041: val_loss did not improve from 4.47394\n",
            "Epoch 42/50\n",
            "115477/115477 [==============================] - 73s 631us/step - loss: 4.0932 - val_loss: 4.4927\n",
            "\n",
            "Epoch 00042: val_loss did not improve from 4.47394\n",
            "Epoch 43/50\n",
            "115477/115477 [==============================] - 73s 634us/step - loss: 4.0897 - val_loss: 4.4965\n",
            "\n",
            "Epoch 00043: val_loss did not improve from 4.47394\n",
            "Epoch 44/50\n",
            "115477/115477 [==============================] - 74s 638us/step - loss: 4.0884 - val_loss: 4.4947\n",
            "\n",
            "Epoch 00044: val_loss did not improve from 4.47394\n",
            "Epoch 45/50\n",
            "115477/115477 [==============================] - 73s 632us/step - loss: 4.0824 - val_loss: 4.4958\n",
            "\n",
            "Epoch 00045: val_loss did not improve from 4.47394\n",
            "Epoch 46/50\n",
            "115477/115477 [==============================] - 73s 630us/step - loss: 4.0802 - val_loss: 4.5006\n",
            "\n",
            "Epoch 00046: val_loss did not improve from 4.47394\n",
            "Epoch 47/50\n",
            "115477/115477 [==============================] - 73s 633us/step - loss: 4.0755 - val_loss: 4.4987\n",
            "\n",
            "Epoch 00047: val_loss did not improve from 4.47394\n",
            "Epoch 48/50\n",
            "115477/115477 [==============================] - 75s 647us/step - loss: 4.0695 - val_loss: 4.5011\n",
            "\n",
            "Epoch 00048: val_loss did not improve from 4.47394\n",
            "Epoch 49/50\n",
            "115477/115477 [==============================] - 72s 626us/step - loss: 4.0710 - val_loss: 4.4942\n",
            "\n",
            "Epoch 00049: val_loss did not improve from 4.47394\n",
            "Epoch 50/50\n",
            "115477/115477 [==============================] - 73s 635us/step - loss: 4.0647 - val_loss: 4.4987\n",
            "\n",
            "Epoch 00050: val_loss did not improve from 4.47394\n"
          ],
          "name": "stdout"
        }
      ]
    },
    {
      "cell_type": "code",
      "metadata": {
        "id": "RTNsm4RS3s6h",
        "colab_type": "code",
        "colab": {}
      },
      "source": [
        "# serialize model to JSON\n",
        "model_json = model.to_json()\n",
        "with open(\"drive/My Drive/best_music_model.json\", \"w\") as json_file:\n",
        "    json_file.write(model_json)"
      ],
      "execution_count": 20,
      "outputs": []
    },
    {
      "cell_type": "code",
      "metadata": {
        "id": "6nKJOnOX1G44",
        "colab_type": "code",
        "colab": {
          "base_uri": "https://localhost:8080/",
          "height": 70
        },
        "outputId": "f1d9e7dd-25a6-4490-87a1-dc6cab6b3575"
      },
      "source": [
        "#loading best model\n",
        "from keras.models import load_model\n",
        "model = load_model('./drive/My Drive/best_music_model.h5')"
      ],
      "execution_count": 21,
      "outputs": [
        {
          "output_type": "stream",
          "text": [
            "/usr/local/lib/python3.6/dist-packages/tensorflow/python/framework/indexed_slices.py:434: UserWarning: Converting sparse IndexedSlices to a dense Tensor of unknown shape. This may consume a large amount of memory.\n",
            "  \"Converting sparse IndexedSlices to a dense Tensor of unknown shape. \"\n"
          ],
          "name": "stderr"
        }
      ]
    },
    {
      "cell_type": "code",
      "metadata": {
        "id": "846VV3s71GzG",
        "colab_type": "code",
        "colab": {
          "base_uri": "https://localhost:8080/",
          "height": 33
        },
        "outputId": "c08f0b67-19a5-42ef-91a3-1c0c3e071058"
      },
      "source": [
        "import random\n",
        "ind = np.random.randint(0,len(x_val)-1)\n",
        "\n",
        "random_music = x_val[ind]\n",
        "\n",
        "predictions=[]\n",
        "for i in range(10):\n",
        "\n",
        "    random_music = random_music.reshape(1,no_of_timesteps)\n",
        "\n",
        "    prob  = model.predict(random_music)[0]\n",
        "    y_pred= np.argmax(prob,axis=0)\n",
        "    predictions.append(y_pred)\n",
        "\n",
        "    random_music = np.insert(random_music[0],len(random_music[0]),y_pred)\n",
        "    random_music = random_music[1:]\n",
        "    \n",
        "print(predictions)"
      ],
      "execution_count": 22,
      "outputs": [
        {
          "output_type": "stream",
          "text": [
            "[78, 78, 78, 78, 78, 127, 78, 138, 138, 138]\n"
          ],
          "name": "stdout"
        }
      ]
    },
    {
      "cell_type": "code",
      "metadata": {
        "id": "-oq-NmGW1GyB",
        "colab_type": "code",
        "colab": {}
      },
      "source": [
        "x_int_to_note = dict((number, note_) for number, note_ in enumerate(unique_x)) \n",
        "predicted_notes = [x_int_to_note[i] for i in predictions]"
      ],
      "execution_count": 23,
      "outputs": []
    },
    {
      "cell_type": "code",
      "metadata": {
        "id": "qMLiu0kK1Gv3",
        "colab_type": "code",
        "colab": {
          "base_uri": "https://localhost:8080/",
          "height": 33
        },
        "outputId": "f73338c8-8b05-4838-fb3c-59c4ef330ab8"
      },
      "source": [
        "predicted_notes"
      ],
      "execution_count": 24,
      "outputs": [
        {
          "output_type": "execute_result",
          "data": {
            "text/plain": [
              "['D4', 'D4', 'D4', 'D4', 'D4', 'B4', 'D4', 'G3', 'G3', 'G3']"
            ]
          },
          "metadata": {
            "tags": []
          },
          "execution_count": 24
        }
      ]
    },
    {
      "cell_type": "code",
      "metadata": {
        "id": "SZ3Nbk491Gmm",
        "colab_type": "code",
        "colab": {}
      },
      "source": [
        "def convert_to_midi(prediction_output,music):\n",
        "   \n",
        "    offset = 0\n",
        "    output_notes = []\n",
        "\n",
        "    # create note and chord objects based on the values generated by the model\n",
        "    for pattern in prediction_output:\n",
        "        \n",
        "        # pattern is a chord\n",
        "        if ('.' in pattern) or pattern.isdigit():\n",
        "            notes_in_chord = pattern.split('.')\n",
        "            notes = []\n",
        "            for current_note in notes_in_chord:\n",
        "                \n",
        "                cn=int(current_note)\n",
        "                new_note = note.Note(cn)\n",
        "                new_note.storedInstrument = instrument.Piano()\n",
        "                notes.append(new_note)\n",
        "                \n",
        "            new_chord = chord.Chord(notes)\n",
        "            new_chord.offset = offset\n",
        "            output_notes.append(new_chord)\n",
        "            \n",
        "        # pattern is a note\n",
        "        else:\n",
        "            \n",
        "            new_note = note.Note(pattern)\n",
        "            new_note.offset = offset\n",
        "            new_note.storedInstrument = instrument.Piano()\n",
        "            output_notes.append(new_note)\n",
        "\n",
        "        # increase offset each iteration so that notes do not stack\n",
        "        offset += 1\n",
        "    midi_stream = stream.Stream(output_notes)\n",
        "    midi_stream.write('midi', fp=music+'.mid')"
      ],
      "execution_count": 25,
      "outputs": []
    },
    {
      "cell_type": "code",
      "metadata": {
        "id": "nTw365JN1GhU",
        "colab_type": "code",
        "colab": {}
      },
      "source": [
        "convert_to_midi(predicted_notes,'music1')"
      ],
      "execution_count": null,
      "outputs": []
    },
    {
      "cell_type": "code",
      "metadata": {
        "id": "EMKeeBjG03ci",
        "colab_type": "code",
        "colab": {}
      },
      "source": [
        ""
      ],
      "execution_count": null,
      "outputs": []
    }
  ]
}